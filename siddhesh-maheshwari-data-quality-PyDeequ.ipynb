{
  "cells": [
    {
      "cell_type": "markdown",
      "id": "951df8ad",
      "metadata": {
        "id": "951df8ad"
      },
      "source": [
        "<h1 style=\"text-align: center;\">DPDQ HW</h1>\n",
        "<h2 style=\"text-align: center;\">Name : Siddhesh Maheshwari</h2>\n",
        "<h2 style=\"text-align: center;\">MDS202347</h2>"
      ]
    },
    {
      "cell_type": "markdown",
      "id": "49134105",
      "metadata": {
        "id": "49134105"
      },
      "source": [
        "# Data Quality Analysis on Adult Dataset\n",
        "#### Using pydeequ"
      ]
    },
    {
      "cell_type": "code",
      "source": [
        "import warnings\n",
        "warnings.filterwarnings(\"ignore\")"
      ],
      "metadata": {
        "id": "_DP5CHU2XNvO"
      },
      "id": "_DP5CHU2XNvO",
      "execution_count": 1,
      "outputs": []
    },
    {
      "cell_type": "code",
      "source": [
        "!pip install -q pyspark==3.2.0\n",
        "!pip install pydeequ"
      ],
      "metadata": {
        "id": "HAyGGDN_Wg34",
        "outputId": "10a3c37d-b130-413c-8070-dc5a615c3f0c",
        "colab": {
          "base_uri": "https://localhost:8080/"
        }
      },
      "id": "HAyGGDN_Wg34",
      "execution_count": 2,
      "outputs": [
        {
          "output_type": "stream",
          "name": "stdout",
          "text": [
            "Requirement already satisfied: pydeequ in /usr/local/lib/python3.11/dist-packages (1.5.0)\n",
            "Requirement already satisfied: numpy>=1.14.1 in /usr/local/lib/python3.11/dist-packages (from pydeequ) (2.0.2)\n",
            "Requirement already satisfied: pandas>=0.23.0 in /usr/local/lib/python3.11/dist-packages (from pydeequ) (2.2.2)\n",
            "Requirement already satisfied: python-dateutil>=2.8.2 in /usr/local/lib/python3.11/dist-packages (from pandas>=0.23.0->pydeequ) (2.8.2)\n",
            "Requirement already satisfied: pytz>=2020.1 in /usr/local/lib/python3.11/dist-packages (from pandas>=0.23.0->pydeequ) (2025.2)\n",
            "Requirement already satisfied: tzdata>=2022.7 in /usr/local/lib/python3.11/dist-packages (from pandas>=0.23.0->pydeequ) (2025.2)\n",
            "Requirement already satisfied: six>=1.5 in /usr/local/lib/python3.11/dist-packages (from python-dateutil>=2.8.2->pandas>=0.23.0->pydeequ) (1.17.0)\n"
          ]
        }
      ]
    },
    {
      "cell_type": "code",
      "execution_count": 3,
      "id": "d915cf1f",
      "metadata": {
        "colab": {
          "base_uri": "https://localhost:8080/"
        },
        "id": "d915cf1f",
        "outputId": "aa9f95c2-fc92-4f5a-a335-1576f91d56b6",
        "vscode": {
          "languageId": "plaintext"
        }
      },
      "outputs": [
        {
          "output_type": "stream",
          "name": "stdout",
          "text": [
            "WARNING: An illegal reflective access operation has occurred\n",
            "WARNING: Illegal reflective access by org.apache.spark.unsafe.Platform (file:/usr/local/lib/python3.11/dist-packages/pyspark/jars/spark-unsafe_2.12-3.2.0.jar) to constructor java.nio.DirectByteBuffer(long,int)\n",
            "WARNING: Please consider reporting this to the maintainers of org.apache.spark.unsafe.Platform\n",
            "WARNING: Use --illegal-access=warn to enable warnings of further illegal reflective access operations\n",
            "WARNING: All illegal access operations will be denied in a future release\n",
            "Welcome to\n",
            "      ____              __\n",
            "     / __/__  ___ _____/ /__\n",
            "    _\\ \\/ _ \\/ _ `/ __/  '_/\n",
            "   /___/ .__/\\_,_/_/ /_/\\_\\   version 3.2.0\n",
            "      /_/\n",
            "                        \n",
            "Using Scala version 2.12.15, OpenJDK 64-Bit Server VM, 11.0.26\n",
            "Branch HEAD\n",
            "Compiled by user ubuntu on 2021-10-06T12:46:30Z\n",
            "Revision 5d45a415f3a29898d92380380cfd82bfc7f579ea\n",
            "Url https://github.com/apache/spark\n",
            "Type --help for more information.\n",
            "env: SPARK_VERSION=3.3\n"
          ]
        }
      ],
      "source": [
        "from pyspark.sql import SparkSession, Row\n",
        "!pyspark --version\n",
        "%env SPARK_VERSION=3.3"
      ]
    },
    {
      "cell_type": "markdown",
      "source": [
        "# Step 1 : Import libraries"
      ],
      "metadata": {
        "id": "ekKmFg0OE0q5"
      },
      "id": "ekKmFg0OE0q5"
    },
    {
      "cell_type": "code",
      "execution_count": 51,
      "metadata": {
        "id": "rz1XbKKOyXLp"
      },
      "outputs": [],
      "source": [
        "import pydeequ\n",
        "from pydeequ.profiles import *\n",
        "import os\n",
        "import kagglehub\n",
        "import pandas as pd\n",
        "import numpy as np\n",
        "import json\n",
        "from pyspark.sql import SparkSession\n",
        "from pydeequ.profiles import ColumnProfilerRunner\n",
        "from pydeequ.suggestions import ConstraintSuggestionRunner, DEFAULT\n",
        "from pydeequ.checks import Check, CheckLevel\n",
        "from pydeequ.verification import VerificationSuite, VerificationResult\n",
        "from pydeequ.analyzers import AnalyzerContext\n",
        "from pydeequ.analyzers import *\n",
        "from pydeequ.suggestions import *"
      ],
      "id": "rz1XbKKOyXLp"
    },
    {
      "cell_type": "code",
      "source": [],
      "metadata": {
        "id": "uULeqEyOhDvw"
      },
      "id": "uULeqEyOhDvw",
      "execution_count": null,
      "outputs": []
    },
    {
      "cell_type": "markdown",
      "source": [
        "# Step 2 : Loading the dataset"
      ],
      "metadata": {
        "id": "hs3puZmSXfja"
      },
      "id": "hs3puZmSXfja"
    },
    {
      "cell_type": "code",
      "execution_count": 5,
      "id": "w-p_44_Uv09l",
      "metadata": {
        "colab": {
          "base_uri": "https://localhost:8080/"
        },
        "id": "w-p_44_Uv09l",
        "outputId": "53375cc3-1a0a-4059-bc2e-1fd4fb67b7d7"
      },
      "outputs": [
        {
          "output_type": "stream",
          "name": "stdout",
          "text": [
            "Path to dataset files: /kaggle/input/adult\n"
          ]
        }
      ],
      "source": [
        "# Download latest version from Kaggle\n",
        "dataset_path = kagglehub.dataset_download(\"siddheshmaheshwari/adult\")\n",
        "print(\"Path to dataset files:\", dataset_path)\n",
        "\n",
        "# Load data (adjust file names based on what's available in the dataset)\n",
        "train_file = os.path.join(dataset_path, \"adult.data\")\n",
        "test_file = os.path.join(dataset_path, \"adult.test\")"
      ]
    },
    {
      "cell_type": "code",
      "execution_count": 10,
      "id": "UvPXDIyWxWwl",
      "metadata": {
        "id": "UvPXDIyWxWwl"
      },
      "outputs": [],
      "source": [
        "column_names = [\n",
        "    'age', 'workclass', \"fnlwgt\",'education', 'education-num', 'marital-status',\n",
        "    'occupation', 'relationship', 'race', 'sex', 'capital-gain',\n",
        "    'capital-loss', 'hours-per-week', 'native-country', 'income'\n",
        "]\n",
        "\n",
        "adult_data = pd.read_csv(train_file, names=column_names)\n",
        "adult_test = pd.read_csv(test_file, names=column_names)\n",
        "adult_test.drop(index=0,inplace=True)\n",
        "\n",
        "adult_data_full = pd.concat([adult_data, adult_test], axis=0)\n",
        "\n",
        "adult_data_full.index = adult_data_full.index.astype(str)\n",
        "\n",
        "int_columns = ['age', 'fnlwgt', 'education-num', 'capital-gain', 'capital-loss', 'hours-per-week']\n",
        "for col in int_columns:\n",
        "    adult_data_full[col] = adult_data_full[col].astype(int)\n",
        "\n",
        "# Taking some use of Y data profile analysis\n",
        "# 1. Normalize income labels (fix variations like '>50K.', '<=50K ', etc.)\n",
        "adult_data_full['income'] = adult_data_full['income'].str.strip().replace({'>50K.': '>50K', '<=50K.': '<=50K'})\n",
        "\n",
        "# 2. Replace '?' with NaN\n",
        "adult_data_full.replace('?', np.nan, inplace=True)\n",
        "\n",
        "# 3. Remove duplicate rows\n",
        "adult_data_full = adult_data_full.drop_duplicates()\n",
        "\n",
        "columns_to_convert = [\n",
        "    'hours-per-week', 'capital-gain', 'education-num',\n",
        "    'age', 'fnlwgt', 'capital-loss'\n",
        "]\n",
        "\n",
        "# Convert those columns\n",
        "adult_data_full[columns_to_convert] = adult_data_full[columns_to_convert].astype(int)"
      ]
    },
    {
      "cell_type": "code",
      "execution_count": 11,
      "id": "ZUvoz_l1x5eC",
      "metadata": {
        "colab": {
          "base_uri": "https://localhost:8080/"
        },
        "id": "ZUvoz_l1x5eC",
        "outputId": "caea8124-cec7-4e75-bc3f-6e4972713f95"
      },
      "outputs": [
        {
          "output_type": "stream",
          "name": "stdout",
          "text": [
            "Drive already mounted at /content/drive; to attempt to forcibly remount, call drive.mount(\"/content/drive\", force_remount=True).\n",
            "Data saved to: /content/drive/MyDrive/adult_data_full.csv\n"
          ]
        }
      ],
      "source": [
        "# Save the DataFrame to a CSV file in Google Drive\n",
        "from google.colab import drive\n",
        "drive.mount('/content/drive')\n",
        "\n",
        "csv_file_path = '/content/drive/MyDrive/adult_data_full.csv'\n",
        "adult_data_full.to_csv(csv_file_path, index=False)\n",
        "\n",
        "print(f\"Data saved to: {csv_file_path}\")\n"
      ]
    },
    {
      "cell_type": "markdown",
      "source": [
        "# Step 3: Create Spark session"
      ],
      "metadata": {
        "id": "8gKXEJwAXxUV"
      },
      "id": "8gKXEJwAXxUV"
    },
    {
      "cell_type": "code",
      "execution_count": 12,
      "id": "tGLHHI8_z3hW",
      "metadata": {
        "id": "tGLHHI8_z3hW"
      },
      "outputs": [],
      "source": [
        "spark = (SparkSession\n",
        "    .builder\n",
        "    .appName(\"PyDeequ Analysis\")\n",
        "    .config(\"spark.jars.packages\", pydeequ.deequ_maven_coord)\n",
        "    .config(\"spark.jars.excludes\", pydeequ.f2j_maven_coord)\n",
        "    .getOrCreate())"
      ]
    },
    {
      "cell_type": "markdown",
      "source": [
        "# Step 4: Load dataset"
      ],
      "metadata": {
        "id": "AoFvozJPX2J2"
      },
      "id": "AoFvozJPX2J2"
    },
    {
      "cell_type": "code",
      "source": [
        "adult_data = spark.read \\\n",
        "    .option(\"header\", \"true\") \\\n",
        "    .option(\"inferSchema\", \"true\") \\\n",
        "    .csv(\"/content/drive/MyDrive/adult_data_full.csv\")\n"
      ],
      "metadata": {
        "id": "4JCLWKDsbERs"
      },
      "id": "4JCLWKDsbERs",
      "execution_count": 16,
      "outputs": []
    },
    {
      "cell_type": "code",
      "source": [
        "adult_data.printSchema()"
      ],
      "metadata": {
        "id": "jljzP6D7bHyV",
        "outputId": "6cbdfaee-ef4d-40ca-cc1b-0766214ffd7b",
        "colab": {
          "base_uri": "https://localhost:8080/"
        }
      },
      "id": "jljzP6D7bHyV",
      "execution_count": 17,
      "outputs": [
        {
          "output_type": "stream",
          "name": "stdout",
          "text": [
            "root\n",
            " |-- age: integer (nullable = true)\n",
            " |-- workclass: string (nullable = true)\n",
            " |-- fnlwgt: integer (nullable = true)\n",
            " |-- education: string (nullable = true)\n",
            " |-- education-num: integer (nullable = true)\n",
            " |-- marital-status: string (nullable = true)\n",
            " |-- occupation: string (nullable = true)\n",
            " |-- relationship: string (nullable = true)\n",
            " |-- race: string (nullable = true)\n",
            " |-- sex: string (nullable = true)\n",
            " |-- capital-gain: integer (nullable = true)\n",
            " |-- capital-loss: integer (nullable = true)\n",
            " |-- hours-per-week: integer (nullable = true)\n",
            " |-- native-country: string (nullable = true)\n",
            " |-- income: string (nullable = true)\n",
            "\n"
          ]
        }
      ]
    },
    {
      "cell_type": "code",
      "source": [
        "adult_data.show(5)"
      ],
      "metadata": {
        "id": "_SPACzb9bN7l",
        "outputId": "f4695787-55c7-4605-eae6-814e46baa170",
        "colab": {
          "base_uri": "https://localhost:8080/"
        }
      },
      "id": "_SPACzb9bN7l",
      "execution_count": 18,
      "outputs": [
        {
          "output_type": "stream",
          "name": "stdout",
          "text": [
            "+---+-----------------+------+----------+-------------+-------------------+------------------+--------------+------+-------+------------+------------+--------------+--------------+------+\n",
            "|age|        workclass|fnlwgt| education|education-num|     marital-status|        occupation|  relationship|  race|    sex|capital-gain|capital-loss|hours-per-week|native-country|income|\n",
            "+---+-----------------+------+----------+-------------+-------------------+------------------+--------------+------+-------+------------+------------+--------------+--------------+------+\n",
            "| 39|        State-gov| 77516| Bachelors|           13|      Never-married|      Adm-clerical| Not-in-family| White|   Male|        2174|           0|            40| United-States| <=50K|\n",
            "| 50| Self-emp-not-inc| 83311| Bachelors|           13| Married-civ-spouse|   Exec-managerial|       Husband| White|   Male|           0|           0|            13| United-States| <=50K|\n",
            "| 38|          Private|215646|   HS-grad|            9|           Divorced| Handlers-cleaners| Not-in-family| White|   Male|           0|           0|            40| United-States| <=50K|\n",
            "| 53|          Private|234721|      11th|            7| Married-civ-spouse| Handlers-cleaners|       Husband| Black|   Male|           0|           0|            40| United-States| <=50K|\n",
            "| 28|          Private|338409| Bachelors|           13| Married-civ-spouse|    Prof-specialty|          Wife| Black| Female|           0|           0|            40|          Cuba| <=50K|\n",
            "+---+-----------------+------+----------+-------------+-------------------+------------------+--------------+------+-------+------------+------------+--------------+--------------+------+\n",
            "only showing top 5 rows\n",
            "\n"
          ]
        }
      ]
    },
    {
      "cell_type": "markdown",
      "source": [
        "# Step 5: Column Profiling"
      ],
      "metadata": {
        "id": "xr2MNY5IYiVB"
      },
      "id": "xr2MNY5IYiVB"
    },
    {
      "cell_type": "code",
      "execution_count": 19,
      "id": "8u_N7SV40FD1",
      "metadata": {
        "colab": {
          "base_uri": "https://localhost:8080/"
        },
        "id": "8u_N7SV40FD1",
        "outputId": "595e87c8-7d26-45a4-93ac-48370ce81fb3"
      },
      "outputs": [
        {
          "output_type": "stream",
          "name": "stdout",
          "text": [
            "=== Running Column Profiling ===\n",
            "Column: hours-per-week\n",
            "  Completeness: 1.0\n",
            "  Distinct values: 95\n",
            "  Data type: Integral\n",
            "\n",
            "Column: capital-gain\n",
            "  Completeness: 1.0\n",
            "  Distinct values: 124\n",
            "  Data type: Integral\n",
            "\n",
            "Column: education-num\n",
            "  Completeness: 1.0\n",
            "  Distinct values: 16\n",
            "  Data type: Integral\n",
            "\n",
            "Column: marital-status\n",
            "  Completeness: 1.0\n",
            "  Distinct values: 7\n",
            "  Data type: String\n",
            "\n",
            "Column: age\n",
            "  Completeness: 1.0\n",
            "  Distinct values: 74\n",
            "  Data type: Integral\n",
            "\n",
            "Column: sex\n",
            "  Completeness: 1.0\n",
            "  Distinct values: 2\n",
            "  Data type: String\n",
            "\n",
            "Column: relationship\n",
            "  Completeness: 1.0\n",
            "  Distinct values: 6\n",
            "  Data type: String\n",
            "\n",
            "Column: education\n",
            "  Completeness: 1.0\n",
            "  Distinct values: 16\n",
            "  Data type: String\n",
            "\n",
            "Column: income\n",
            "  Completeness: 1.0\n",
            "  Distinct values: 2\n",
            "  Data type: String\n",
            "\n",
            "Column: race\n",
            "  Completeness: 1.0\n",
            "  Distinct values: 5\n",
            "  Data type: String\n",
            "\n",
            "Column: native-country\n",
            "  Completeness: 1.0\n",
            "  Distinct values: 39\n",
            "  Data type: String\n",
            "\n",
            "Column: fnlwgt\n",
            "  Completeness: 1.0\n",
            "  Distinct values: 28972\n",
            "  Data type: Integral\n",
            "\n",
            "Column: workclass\n",
            "  Completeness: 1.0\n",
            "  Distinct values: 9\n",
            "  Data type: String\n",
            "\n",
            "Column: capital-loss\n",
            "  Completeness: 1.0\n",
            "  Distinct values: 100\n",
            "  Data type: Integral\n",
            "\n",
            "Column: occupation\n",
            "  Completeness: 1.0\n",
            "  Distinct values: 15\n",
            "  Data type: String\n",
            "\n"
          ]
        }
      ],
      "source": [
        "print(\"=== Running Column Profiling ===\")\n",
        "profile_result = ColumnProfilerRunner(spark).onData(adult_data).run()\n",
        "\n",
        "# Print profiling results\n",
        "for col, profile in profile_result.profiles.items():\n",
        "    print(f\"Column: {col}\")\n",
        "    print(f\"  Completeness: {profile.completeness}\")\n",
        "    print(f\"  Distinct values: {profile.approximateNumDistinctValues}\")\n",
        "    print(f\"  Data type: {profile.dataType}\")\n",
        "    print()"
      ]
    },
    {
      "cell_type": "code",
      "execution_count": null,
      "id": "rO9jr-yg3u-3",
      "metadata": {
        "id": "rO9jr-yg3u-3"
      },
      "outputs": [],
      "source": []
    },
    {
      "cell_type": "code",
      "source": [],
      "metadata": {
        "id": "bnbOULKuYzhb"
      },
      "id": "bnbOULKuYzhb",
      "execution_count": null,
      "outputs": []
    },
    {
      "cell_type": "markdown",
      "source": [
        "# Step 6: Generate Constraint Suggestions"
      ],
      "metadata": {
        "id": "-1Rs69jrY00K"
      },
      "id": "-1Rs69jrY00K"
    },
    {
      "cell_type": "code",
      "execution_count": 34,
      "id": "LDl2U72b0Hoj",
      "metadata": {
        "colab": {
          "base_uri": "https://localhost:8080/"
        },
        "id": "LDl2U72b0Hoj",
        "outputId": "3e73bc87-12c2-42b4-d843-7fc07f0f67b5"
      },
      "outputs": [
        {
          "output_type": "stream",
          "name": "stdout",
          "text": [
            "=== Generating Constraint Suggestions ===\n",
            "(Compliance('hours-per-week' has value range '40', '50', '45', '60', '35', '20', '30', '55', '25', '48', '38', '15', '70', '32', '10', '65', '24', '42', '36', '44', '16', '12', '37', '43', '8', '80', '52', '56', '28', '99', '18', '46', '72', '75', '5', '6', '4', '47', '84', '39', '54', '22', '33', '3', '41', '14', '2', '34', '21', '7', '27', '17', '90', '26', '23', '53', '49', '58', '13', '1', '9', '62', '66', '64', '11', '51', '57', '19', '85', '68', '63', '29', '98', '78', '31', '96', '77', '59', '67', '86', '76', '61', '88', '73', '91', '74', '92', '81', '89', '97', '95', '69', '82', '87', '79', '94',`hours-per-week` IN ('40', '50', '45', '60', '35', '20', '30', '55', '25', '48', '38', '15', '70', '32', '10', '65', '24', '42', '36', '44', '16', '12', '37', '43', '8', '80', '52', '56', '28', '99', '18', '46', '72', '75', '5', '6', '4', '47', '84', '39', '54', '22', '33', '3', '41', '14', '2', '34', '21', '7', '27', '17', '90', '26', '23', '53', '49', '58', '13', '1', '9', '62', '66', '64', '11', '51', '57', '19', '85', '68', '63', '29', '98', '78', '31', '96', '77', '59', '67', '86', '76', '61', '88', '73', '91', '74', '92', '81', '89', '97', '95', '69', '82', '87', '79', '94'),None,List(hours-per-week),None))\n",
            "nt(Completeness(hours-per-week,None,None))\n",
            "(Compliance('hours-per-week' has value range '40', '50', '45', '60', '35', '20', '30', '55', '25', '48', '38', '15', '70', '32', '10', '65', '24', '42', '36' for at least 90.0% of values,`hours-per-week` IN ('40', '50', '45', '60', '35', '20', '30', '55', '25', '48', '38', '15', '70', '32', '10', '65', '24', '42', '36'),None,List(hours-per-week),None))\n",
            "(Compliance('hours-per-week' has no negative values,hours-per-week >= 0,None,List(hours-per-week),None))\n",
            "nt(Completeness(capital-gain,None,None))\n",
            "(Compliance('capital-gain' has no negative values,capital-gain >= 0,None,List(capital-gain),None))\n",
            "(Compliance('education-num' has value range '9', '10', '13', '14', '11', '7', '12', '6', '4', '15', '5', '8', '16', '3', '2', '1',`education-num` IN ('9', '10', '13', '14', '11', '7', '12', '6', '4', '15', '5', '8', '16', '3', '2', '1'),None,List(education-num),None))\n",
            "nt(Completeness(education-num,None,None))\n",
            "(Compliance('education-num' has value range '9', '10', '13', '14', '11', '7', '12', '6' for at least 90.0% of values,`education-num` IN ('9', '10', '13', '14', '11', '7', '12', '6'),None,List(education-num),None))\n",
            "(Compliance('education-num' has no negative values,education-num >= 0,None,List(education-num),None))\n",
            "(Compliance('marital-status' has value range ' Married-civ-spouse', ' Never-married', ' Divorced', ' Separated', ' Widowed', ' Married-spouse-absent', ' Married-AF-spouse',`marital-status` IN (' Married-civ-spouse', ' Never-married', ' Divorced', ' Separated', ' Widowed', ' Married-spouse-absent', ' Married-AF-spouse'),None,List(marital-status),None))\n",
            "nt(Completeness(marital-status,None,None))\n",
            "(Compliance('marital-status' has value range ' Married-civ-spouse', ' Never-married', ' Divorced' for at least 92.0% of values,`marital-status` IN (' Married-civ-spouse', ' Never-married', ' Divorced'),None,List(marital-status),None))\n",
            "(Compliance('age' has value range '36', '35', '33', '23', '31', '34', '28', '37', '30', '38', '32', '41', '27', '29', '24', '39', '25', '40', '22', '42', '26', '20', '43', '46', '45', '21', '47', '44', '19', '51', '50', '18', '49', '48', '52', '53', '55', '54', '17', '56', '58', '57', '59', '61', '60', '62', '64', '63', '65', '67', '66', '68', '69', '70', '72', '71', '73', '74', '75', '76', '90', '77', '80', '81', '78', '79', '82', '84', '83', '88', '85', '87', '89', '86',`age` IN ('36', '35', '33', '23', '31', '34', '28', '37', '30', '38', '32', '41', '27', '29', '24', '39', '25', '40', '22', '42', '26', '20', '43', '46', '45', '21', '47', '44', '19', '51', '50', '18', '49', '48', '52', '53', '55', '54', '17', '56', '58', '57', '59', '61', '60', '62', '64', '63', '65', '67', '66', '68', '69', '70', '72', '71', '73', '74', '75', '76', '90', '77', '80', '81', '78', '79', '82', '84', '83', '88', '85', '87', '89', '86'),None,List(age),None))\n",
            "nt(Completeness(age,None,None))\n",
            "(Compliance('age' has value range '36', '35', '33', '23', '31', '34', '28', '37', '30', '38', '32', '41', '27', '29', '24', '39', '25', '40', '22', '42', '26', '20', '43', '46', '45', '21', '47', '44', '19', '51', '50', '18', '49', '48', '52', '53', '55', '54', '17', '56', '58', '57' for at least 90.0% of values,`age` IN ('36', '35', '33', '23', '31', '34', '28', '37', '30', '38', '32', '41', '27', '29', '24', '39', '25', '40', '22', '42', '26', '20', '43', '46', '45', '21', '47', '44', '19', '51', '50', '18', '49', '48', '52', '53', '55', '54', '17', '56', '58', '57'),None,List(age),None))\n",
            "(Compliance('age' has no negative values,age >= 0,None,List(age),None))\n",
            "(Compliance('sex' has value range ' Male', ' Female',`sex` IN (' Male', ' Female'),None,List(sex),None))\n",
            "nt(Completeness(sex,None,None))\n",
            "(Compliance('relationship' has value range ' Husband', ' Not-in-family', ' Own-child', ' Unmarried', ' Wife', ' Other-relative',`relationship` IN (' Husband', ' Not-in-family', ' Own-child', ' Unmarried', ' Wife', ' Other-relative'),None,List(relationship),None))\n",
            "nt(Completeness(relationship,None,None))\n",
            "(Compliance('relationship' has value range ' Husband', ' Not-in-family', ' Own-child', ' Unmarried' for at least 91.0% of values,`relationship` IN (' Husband', ' Not-in-family', ' Own-child', ' Unmarried'),None,List(relationship),None))\n",
            "(Compliance('education' has value range ' HS-grad', ' Some-college', ' Bachelors', ' Masters', ' Assoc-voc', ' 11th', ' Assoc-acdm', ' 10th', ' 7th-8th', ' Prof-school', ' 9th', ' 12th', ' Doctorate', ' 5th-6th', ' 1st-4th', ' Preschool',`education` IN (' HS-grad', ' Some-college', ' Bachelors', ' Masters', ' Assoc-voc', ' 11th', ' Assoc-acdm', ' 10th', ' 7th-8th', ' Prof-school', ' 9th', ' 12th', ' Doctorate', ' 5th-6th', ' 1st-4th', ' Preschool'),None,List(education),None))\n",
            "nt(Completeness(education,None,None))\n",
            "(Compliance('education' has value range ' HS-grad', ' Some-college', ' Bachelors', ' Masters', ' Assoc-voc', ' 11th', ' Assoc-acdm', ' 10th' for at least 90.0% of values,`education` IN (' HS-grad', ' Some-college', ' Bachelors', ' Masters', ' Assoc-voc', ' 11th', ' Assoc-acdm', ' 10th'),None,List(education),None))\n",
            "(Compliance('income' has value range '<=50K', '>50K',`income` IN ('<=50K', '>50K'),None,List(income),None))\n",
            "nt(Completeness(income,None,None))\n",
            "(Compliance('race' has value range ' White', ' Black', ' Asian-Pac-Islander', ' Amer-Indian-Eskimo', ' Other',`race` IN (' White', ' Black', ' Asian-Pac-Islander', ' Amer-Indian-Eskimo', ' Other'),None,List(race),None))\n",
            "nt(Completeness(race,None,None))\n",
            "(Compliance('race' has value range ' White', ' Black' for at least 94.0% of values,`race` IN (' White', ' Black'),None,List(race),None))\n",
            "(Compliance('native-country' has value range ' United-States', ' Mexico', ' ?', ' Philippines', ' Germany', ' Puerto-Rico', ' Canada', ' El-Salvador', ' India', ' Cuba', ' England', ' China', ' South', ' Jamaica', ' Italy', ' Dominican-Republic', ' Japan', ' Poland', ' Vietnam', ' Guatemala', ' Columbia', ' Haiti', ' Portugal', ' Taiwan', ' Iran', ' Greece', ' Nicaragua', ' Peru', ' Ecuador', ' France', ' Ireland', ' Thailand', ' Hong', ' Cambodia', ' Trinadad&Tobago', ' Outlying-US(Guam-USVI-etc)', ' Yugoslavia', ' Laos', ' Scotland', ' Honduras', ' Hungary', ' Holand-Netherlands',`native-country` IN (' United-States', ' Mexico', ' ?', ' Philippines', ' Germany', ' Puerto-Rico', ' Canada', ' El-Salvador', ' India', ' Cuba', ' England', ' China', ' South', ' Jamaica', ' Italy', ' Dominican-Republic', ' Japan', ' Poland', ' Vietnam', ' Guatemala', ' Columbia', ' Haiti', ' Portugal', ' Taiwan', ' Iran', ' Greece', ' Nicaragua', ' Peru', ' Ecuador', ' France', ' Ireland', ' Thailand', ' Hong', ' Cambodia', ' Trinadad&Tobago', ' Outlying-US(Guam-USVI-etc)', ' Yugoslavia', ' Laos', ' Scotland', ' Honduras', ' Hungary', ' Holand-Netherlands'),None,List(native-country),None))\n",
            "nt(Completeness(native-country,None,None))\n",
            "(Compliance('native-country' has value range ' United-States', ' Mexico' for at least 91.0% of values,`native-country` IN (' United-States', ' Mexico'),None,List(native-country),None))\n",
            "nt(Completeness(fnlwgt,None,None))\n",
            "(Compliance('fnlwgt' has no negative values,fnlwgt >= 0,None,List(fnlwgt),None))\n",
            "(Compliance('workclass' has value range ' Private', ' Self-emp-not-inc', ' Local-gov', ' ?', ' State-gov', ' Self-emp-inc', ' Federal-gov', ' Without-pay', ' Never-worked',`workclass` IN (' Private', ' Self-emp-not-inc', ' Local-gov', ' ?', ' State-gov', ' Self-emp-inc', ' Federal-gov', ' Without-pay', ' Never-worked'),None,List(workclass),None))\n",
            "nt(Completeness(workclass,None,None))\n",
            "(Compliance('workclass' has value range ' Private', ' Self-emp-not-inc', ' Local-gov', ' ?', ' State-gov' for at least 93.0% of values,`workclass` IN (' Private', ' Self-emp-not-inc', ' Local-gov', ' ?', ' State-gov'),None,List(workclass),None))\n",
            "(Compliance('capital-loss' has value range '0', '1902', '1977', '1887', '2415', '1485', '1848', '1590', '1602', '1876', '1740', '1672', '1741', '1564', '2258', '1719', '1980', '1669', '1408', '2001', '2002', '1579', '2051', '1721', '1974', '2339', '1504', '2377', '1628', '2179', '2444', '1762', '2205', '625', '2559', '2057', '2824', '2042', '1573', '1651', '1092', '2392', '1340', '1617', '2174', '1380', '1594', '1668', '1726', '2246', '2129', '2231', '2603', '1258', '880', '2206', '323', '2547', '2149', '1825', '213', '3004', '3770', '2457', '1138', '1411', '653', '2472', '1816', '2238', '1510', '1944', '1429', '1735', '1648', '1844', '4356', '419', '2267', '2163', '810', '2282', '2467', '3683', '2754', '3175', '2352', '3900', '1755', '974', '2489', '1870', '1539', '2465', '1911', '2080', '1421', '155', '2201',`capital-loss` IN ('0', '1902', '1977', '1887', '2415', '1485', '1848', '1590', '1602', '1876', '1740', '1672', '1741', '1564', '2258', '1719', '1980', '1669', '1408', '2001', '2002', '1579', '2051', '1721', '1974', '2339', '1504', '2377', '1628', '2179', '2444', '1762', '2205', '625', '2559', '2057', '2824', '2042', '1573', '1651', '1092', '2392', '1340', '1617', '2174', '1380', '1594', '1668', '1726', '2246', '2129', '2231', '2603', '1258', '880', '2206', '323', '2547', '2149', '1825', '213', '3004', '3770', '2457', '1138', '1411', '653', '2472', '1816', '2238', '1510', '1944', '1429', '1735', '1648', '1844', '4356', '419', '2267', '2163', '810', '2282', '2467', '3683', '2754', '3175', '2352', '3900', '1755', '974', '2489', '1870', '1539', '2465', '1911', '2080', '1421', '155', '2201'),None,List(capital-loss),None))\n",
            "nt(Completeness(capital-loss,None,None))\n",
            "(Compliance('capital-loss' has value range '0' for at least 95.0% of values,`capital-loss` IN ('0'),None,List(capital-loss),None))\n",
            "(Compliance('capital-loss' has no negative values,capital-loss >= 0,None,List(capital-loss),None))\n",
            "(Compliance('occupation' has value range ' Prof-specialty', ' Craft-repair', ' Exec-managerial', ' Adm-clerical', ' Sales', ' Other-service', ' Machine-op-inspct', ' ?', ' Transport-moving', ' Handlers-cleaners', ' Farming-fishing', ' Tech-support', ' Protective-serv', ' Priv-house-serv', ' Armed-Forces',`occupation` IN (' Prof-specialty', ' Craft-repair', ' Exec-managerial', ' Adm-clerical', ' Sales', ' Other-service', ' Machine-op-inspct', ' ?', ' Transport-moving', ' Handlers-cleaners', ' Farming-fishing', ' Tech-support', ' Protective-serv', ' Priv-house-serv', ' Armed-Forces'),None,List(occupation),None))\n",
            "nt(Completeness(occupation,None,None))\n",
            "(Compliance('occupation' has value range ' Prof-specialty', ' Craft-repair', ' Exec-managerial', ' Adm-clerical', ' Sales', ' Other-service', ' Machine-op-inspct', ' ?', ' Transport-moving', ' Handlers-cleaners' for at least 91.0% of values,`occupation` IN (' Prof-specialty', ' Craft-repair', ' Exec-managerial', ' Adm-clerical', ' Sales', ' Other-service', ' Machine-op-inspct', ' ?', ' Transport-moving', ' Handlers-cleaners'),None,List(occupation),None))\n"
          ]
        }
      ],
      "source": [
        "print(\"=== Generating Constraint Suggestions ===\")\n",
        "suggestion_result = (ConstraintSuggestionRunner(spark)\n",
        "    .onData(adult_data)\n",
        "    .addConstraintRule(DEFAULT())\n",
        "    .run())\n",
        "\n",
        "# Print constraint suggestions\n",
        "for i in range(len(suggestion_result[\"constraint_suggestions\"])):\n",
        "    print(suggestion_result[\"constraint_suggestions\"][i][\"constraint_name\"][20:])"
      ]
    },
    {
      "cell_type": "markdown",
      "source": [
        "# Step 7: Verify Data Quality"
      ],
      "metadata": {
        "id": "-boIrsgPY3pk"
      },
      "id": "-boIrsgPY3pk"
    },
    {
      "cell_type": "code",
      "source": [
        "print(\"=== Verifying Data Quality ===\")\n",
        "\n",
        "# Define expected values for categorical columns\n",
        "MARITAL_STATUS_VALUES = [\n",
        "    ' Married-civ-spouse', ' Never-married', ' Divorced',\n",
        "    ' Separated', ' Widowed', ' Married-spouse-absent', ' Married-AF-spouse'\n",
        "]\n",
        "\n",
        "RELATIONSHIP_VALUES = [\n",
        "    ' Husband', ' Not-in-family', ' Own-child', ' Unmarried', ' Wife', ' Other-relative'\n",
        "]\n",
        "\n",
        "# Create the data quality check\n",
        "check = (\n",
        "    Check(spark, CheckLevel.Warning, \"Adult Dataset Quality Check\")\n",
        "    # Dataset size check\n",
        "    .hasSize(lambda x: x >= 30000)\n",
        "\n",
        "    # Age checks\n",
        "    .isComplete(\"age\")\n",
        "    .isContainedIn(\"age\", list(map(str, range(17, 91))))\n",
        "\n",
        "    # Income checks\n",
        "    .isComplete(\"income\")\n",
        "    .isContainedIn(\"income\", [\">50K\", \"<=50K\"])\n",
        "\n",
        "    # Hours per week checks\n",
        "    .isComplete(\"hours_per_week\")\n",
        "    .isNonNegative(\"hours_per_week\")\n",
        "    .isContainedIn(\"hours_per_week\", list(map(str, range(1, 100))))\n",
        "\n",
        "    # Education checks\n",
        "    .isComplete(\"education_num\")\n",
        "    .isContainedIn(\"education_num\", list(map(str, range(1, 17))))\n",
        "\n",
        "    # Marital status checks\n",
        "    .isComplete(\"marital_status\")\n",
        "    .isContainedIn(\"marital_status\", MARITAL_STATUS_VALUES)\n",
        "\n",
        "    # Gender checks\n",
        "    .isComplete(\"sex\")\n",
        "    .isContainedIn(\"sex\", [' Male', ' Female'])\n",
        "\n",
        "    # Relationship checks\n",
        "    .isComplete(\"relationship\")\n",
        "    .isContainedIn(\"relationship\", RELATIONSHIP_VALUES)\n",
        "\n",
        "    # Financial checks\n",
        "    .isComplete(\"capital_gain\")\n",
        "    .isNonNegative(\"capital_gain\")\n",
        "    .isComplete(\"capital_loss\")\n",
        "    .isNonNegative(\"capital_loss\")\n",
        "\n",
        "    # Additional weight check\n",
        "    .isComplete(\"fnlwgt\")\n",
        ")\n",
        "\n",
        "verification_result = (\n",
        "    VerificationSuite(spark)\n",
        "    .onData(adult_data)\n",
        "    .addCheck(check)\n",
        "    .run()\n",
        ")\n",
        "\n",
        "# Show results\n",
        "verification_result_df = VerificationResult.checkResultsAsDataFrame(spark, verification_result)\n",
        "verification_result_df.show(truncate=False, n=100)  # Show all rows without truncation\n"
      ],
      "metadata": {
        "id": "dUmd1cXEZNng",
        "outputId": "6d5d9130-14e8-4786-dd7e-fb7f733e3ad8",
        "colab": {
          "base_uri": "https://localhost:8080/"
        }
      },
      "id": "dUmd1cXEZNng",
      "execution_count": 45,
      "outputs": [
        {
          "output_type": "stream",
          "name": "stdout",
          "text": [
            "=== Verifying Data Quality ===\n",
            "+---------------------------+-----------+------------+----------------------------------------------------------------------------------------------------------------------------------------------------------------------------------------------------------------------------------------------------------------------------------------------------------------------------------------------------------------------------------------------------------------------------------------------------------------------------------------------------------------------------------------------------------------------------------------------------------------------------------------------------------------------------------------------------------------------------------------------------------------------------------------------------------------------------------------------------------------------------------------------------------------------------------------------------+-----------------+--------------------------------------------------+\n",
            "|check                      |check_level|check_status|constraint                                                                                                                                                                                                                                                                                                                                                                                                                                                                                                                                                                                                                                                                                                                                                                                                                                                                                                                                          |constraint_status|constraint_message                                |\n",
            "+---------------------------+-----------+------------+----------------------------------------------------------------------------------------------------------------------------------------------------------------------------------------------------------------------------------------------------------------------------------------------------------------------------------------------------------------------------------------------------------------------------------------------------------------------------------------------------------------------------------------------------------------------------------------------------------------------------------------------------------------------------------------------------------------------------------------------------------------------------------------------------------------------------------------------------------------------------------------------------------------------------------------------------+-----------------+--------------------------------------------------+\n",
            "|Adult Dataset Quality Check|Warning    |Warning     |SizeConstraint(Size(None))                                                                                                                                                                                                                                                                                                                                                                                                                                                                                                                                                                                                                                                                                                                                                                                                                                                                                                                          |Success          |                                                  |\n",
            "|Adult Dataset Quality Check|Warning    |Warning     |CompletenessConstraint(Completeness(age,None,None))                                                                                                                                                                                                                                                                                                                                                                                                                                                                                                                                                                                                                                                                                                                                                                                                                                                                                                 |Success          |                                                  |\n",
            "|Adult Dataset Quality Check|Warning    |Warning     |ComplianceConstraint(Compliance(age contained in 17,18,19,20,21,22,23,24,25,26,27,28,29,30,31,32,33,34,35,36,37,38,39,40,41,42,43,44,45,46,47,48,49,50,51,52,53,54,55,56,57,58,59,60,61,62,63,64,65,66,67,68,69,70,71,72,73,74,75,76,77,78,79,80,81,82,83,84,85,86,87,88,89,90,`age` IS NULL OR `age` IN ('17','18','19','20','21','22','23','24','25','26','27','28','29','30','31','32','33','34','35','36','37','38','39','40','41','42','43','44','45','46','47','48','49','50','51','52','53','54','55','56','57','58','59','60','61','62','63','64','65','66','67','68','69','70','71','72','73','74','75','76','77','78','79','80','81','82','83','84','85','86','87','88','89','90'),None,List(age),None))                                                                                                                                                                                                                                  |Success          |                                                  |\n",
            "|Adult Dataset Quality Check|Warning    |Warning     |CompletenessConstraint(Completeness(income,None,None))                                                                                                                                                                                                                                                                                                                                                                                                                                                                                                                                                                                                                                                                                                                                                                                                                                                                                              |Success          |                                                  |\n",
            "|Adult Dataset Quality Check|Warning    |Warning     |ComplianceConstraint(Compliance(income contained in >50K,<=50K,`income` IS NULL OR `income` IN ('>50K','<=50K'),None,List(income),None))                                                                                                                                                                                                                                                                                                                                                                                                                                                                                                                                                                                                                                                                                                                                                                                                            |Success          |                                                  |\n",
            "|Adult Dataset Quality Check|Warning    |Warning     |CompletenessConstraint(Completeness(hours_per_week,None,None))                                                                                                                                                                                                                                                                                                                                                                                                                                                                                                                                                                                                                                                                                                                                                                                                                                                                                      |Failure          |Input data does not include column hours_per_week!|\n",
            "|Adult Dataset Quality Check|Warning    |Warning     |ComplianceConstraint(Compliance(hours_per_week is non-negative,COALESCE(CAST(hours_per_week AS DECIMAL(20,10)), 0.0) >= 0,None,List(hours_per_week),None))                                                                                                                                                                                                                                                                                                                                                                                                                                                                                                                                                                                                                                                                                                                                                                                          |Failure          |Input data does not include column hours_per_week!|\n",
            "|Adult Dataset Quality Check|Warning    |Warning     |ComplianceConstraint(Compliance(hours_per_week contained in 1,2,3,4,5,6,7,8,9,10,11,12,13,14,15,16,17,18,19,20,21,22,23,24,25,26,27,28,29,30,31,32,33,34,35,36,37,38,39,40,41,42,43,44,45,46,47,48,49,50,51,52,53,54,55,56,57,58,59,60,61,62,63,64,65,66,67,68,69,70,71,72,73,74,75,76,77,78,79,80,81,82,83,84,85,86,87,88,89,90,91,92,93,94,95,96,97,98,99,`hours_per_week` IS NULL OR `hours_per_week` IN ('1','2','3','4','5','6','7','8','9','10','11','12','13','14','15','16','17','18','19','20','21','22','23','24','25','26','27','28','29','30','31','32','33','34','35','36','37','38','39','40','41','42','43','44','45','46','47','48','49','50','51','52','53','54','55','56','57','58','59','60','61','62','63','64','65','66','67','68','69','70','71','72','73','74','75','76','77','78','79','80','81','82','83','84','85','86','87','88','89','90','91','92','93','94','95','96','97','98','99'),None,List(hours_per_week),None))|Failure          |Input data does not include column hours_per_week!|\n",
            "|Adult Dataset Quality Check|Warning    |Warning     |CompletenessConstraint(Completeness(education_num,None,None))                                                                                                                                                                                                                                                                                                                                                                                                                                                                                                                                                                                                                                                                                                                                                                                                                                                                                       |Failure          |Input data does not include column education_num! |\n",
            "|Adult Dataset Quality Check|Warning    |Warning     |ComplianceConstraint(Compliance(education_num contained in 1,2,3,4,5,6,7,8,9,10,11,12,13,14,15,16,`education_num` IS NULL OR `education_num` IN ('1','2','3','4','5','6','7','8','9','10','11','12','13','14','15','16'),None,List(education_num),None))                                                                                                                                                                                                                                                                                                                                                                                                                                                                                                                                                                                                                                                                                            |Failure          |Input data does not include column education_num! |\n",
            "|Adult Dataset Quality Check|Warning    |Warning     |CompletenessConstraint(Completeness(marital_status,None,None))                                                                                                                                                                                                                                                                                                                                                                                                                                                                                                                                                                                                                                                                                                                                                                                                                                                                                      |Failure          |Input data does not include column marital_status!|\n",
            "|Adult Dataset Quality Check|Warning    |Warning     |ComplianceConstraint(Compliance(marital_status contained in  Married-civ-spouse, Never-married, Divorced, Separated, Widowed, Married-spouse-absent, Married-AF-spouse,`marital_status` IS NULL OR `marital_status` IN (' Married-civ-spouse',' Never-married',' Divorced',' Separated',' Widowed',' Married-spouse-absent',' Married-AF-spouse'),None,List(marital_status),None))                                                                                                                                                                                                                                                                                                                                                                                                                                                                                                                                                                  |Failure          |Input data does not include column marital_status!|\n",
            "|Adult Dataset Quality Check|Warning    |Warning     |CompletenessConstraint(Completeness(sex,None,None))                                                                                                                                                                                                                                                                                                                                                                                                                                                                                                                                                                                                                                                                                                                                                                                                                                                                                                 |Success          |                                                  |\n",
            "|Adult Dataset Quality Check|Warning    |Warning     |ComplianceConstraint(Compliance(sex contained in  Male, Female,`sex` IS NULL OR `sex` IN (' Male',' Female'),None,List(sex),None))                                                                                                                                                                                                                                                                                                                                                                                                                                                                                                                                                                                                                                                                                                                                                                                                                  |Success          |                                                  |\n",
            "|Adult Dataset Quality Check|Warning    |Warning     |CompletenessConstraint(Completeness(relationship,None,None))                                                                                                                                                                                                                                                                                                                                                                                                                                                                                                                                                                                                                                                                                                                                                                                                                                                                                        |Success          |                                                  |\n",
            "|Adult Dataset Quality Check|Warning    |Warning     |ComplianceConstraint(Compliance(relationship contained in  Husband, Not-in-family, Own-child, Unmarried, Wife, Other-relative,`relationship` IS NULL OR `relationship` IN (' Husband',' Not-in-family',' Own-child',' Unmarried',' Wife',' Other-relative'),None,List(relationship),None))                                                                                                                                                                                                                                                                                                                                                                                                                                                                                                                                                                                                                                                          |Success          |                                                  |\n",
            "|Adult Dataset Quality Check|Warning    |Warning     |CompletenessConstraint(Completeness(capital_gain,None,None))                                                                                                                                                                                                                                                                                                                                                                                                                                                                                                                                                                                                                                                                                                                                                                                                                                                                                        |Failure          |Input data does not include column capital_gain!  |\n",
            "|Adult Dataset Quality Check|Warning    |Warning     |ComplianceConstraint(Compliance(capital_gain is non-negative,COALESCE(CAST(capital_gain AS DECIMAL(20,10)), 0.0) >= 0,None,List(capital_gain),None))                                                                                                                                                                                                                                                                                                                                                                                                                                                                                                                                                                                                                                                                                                                                                                                                |Failure          |Input data does not include column capital_gain!  |\n",
            "|Adult Dataset Quality Check|Warning    |Warning     |CompletenessConstraint(Completeness(capital_loss,None,None))                                                                                                                                                                                                                                                                                                                                                                                                                                                                                                                                                                                                                                                                                                                                                                                                                                                                                        |Failure          |Input data does not include column capital_loss!  |\n",
            "|Adult Dataset Quality Check|Warning    |Warning     |ComplianceConstraint(Compliance(capital_loss is non-negative,COALESCE(CAST(capital_loss AS DECIMAL(20,10)), 0.0) >= 0,None,List(capital_loss),None))                                                                                                                                                                                                                                                                                                                                                                                                                                                                                                                                                                                                                                                                                                                                                                                                |Failure          |Input data does not include column capital_loss!  |\n",
            "|Adult Dataset Quality Check|Warning    |Warning     |CompletenessConstraint(Completeness(fnlwgt,None,None))                                                                                                                                                                                                                                                                                                                                                                                                                                                                                                                                                                                                                                                                                                                                                                                                                                                                                              |Success          |                                                  |\n",
            "+---------------------------+-----------+------------+----------------------------------------------------------------------------------------------------------------------------------------------------------------------------------------------------------------------------------------------------------------------------------------------------------------------------------------------------------------------------------------------------------------------------------------------------------------------------------------------------------------------------------------------------------------------------------------------------------------------------------------------------------------------------------------------------------------------------------------------------------------------------------------------------------------------------------------------------------------------------------------------------------------------------------------------------+-----------------+--------------------------------------------------+\n",
            "\n"
          ]
        }
      ]
    },
    {
      "cell_type": "code",
      "source": [],
      "metadata": {
        "id": "wfzvOejXfvfQ"
      },
      "id": "wfzvOejXfvfQ",
      "execution_count": null,
      "outputs": []
    },
    {
      "cell_type": "markdown",
      "source": [
        "# Step 8: Analyze Data Metrics"
      ],
      "metadata": {
        "id": "G_UWq3C3gJlJ"
      },
      "id": "G_UWq3C3gJlJ"
    },
    {
      "cell_type": "code",
      "execution_count": 50,
      "id": "S8uAsOHt32df",
      "metadata": {
        "colab": {
          "base_uri": "https://localhost:8080/"
        },
        "id": "S8uAsOHt32df",
        "outputId": "1d58f4c1-ac10-451c-8eac-1d72862322eb"
      },
      "outputs": [
        {
          "output_type": "stream",
          "name": "stdout",
          "text": [
            "=== Analyzing Data Metrics ===\n",
            "+-------+----------+-------------------+------------------+\n",
            "|entity |instance  |name               |value             |\n",
            "+-------+----------+-------------------+------------------+\n",
            "|Column |workclass |ApproxCountDistinct|9.0               |\n",
            "|Column |education |ApproxCountDistinct|16.0              |\n",
            "|Column |race      |ApproxCountDistinct|5.0               |\n",
            "|Column |sex       |ApproxCountDistinct|2.0               |\n",
            "|Column |age       |Minimum            |17.0              |\n",
            "|Column |age       |Maximum            |90.0              |\n",
            "|Column |income    |CountDistinct      |2.0               |\n",
            "|Column |fnlwgt    |CountDistinct      |28523.0           |\n",
            "|Dataset|*         |Size               |48790.0           |\n",
            "|Column |occupation|ApproxCountDistinct|15.0              |\n",
            "|Column |workclass |Completeness       |1.0               |\n",
            "|Column |income    |Completeness       |1.0               |\n",
            "|Column |fnlwgt    |Completeness       |1.0               |\n",
            "|Column |age       |Mean               |38.652797704447636|\n",
            "+-------+----------+-------------------+------------------+\n",
            "\n"
          ]
        }
      ],
      "source": [
        "print(\"=== Analyzing Data Metrics ===\")\n",
        "\n",
        "analysis_result = AnalysisRunner(spark) \\\n",
        "    .onData(adult_data) \\\n",
        "    .addAnalyzer(Size()) \\\n",
        "    .addAnalyzer(Completeness(\"income\")) \\\n",
        "    .addAnalyzer(Completeness(\"workclass\"))  \\\n",
        "    .addAnalyzer(Mean(\"age\")) \\\n",
        "    .addAnalyzer(ApproxCountDistinct(\"education\")) \\\n",
        "    .addAnalyzer(CountDistinct(\"income\"))  \\\n",
        "    .addAnalyzer(Completeness(\"fnlwgt\"))  \\\n",
        "    .addAnalyzer(CountDistinct(\"fnlwgt\"))  \\\n",
        "    .addAnalyzer(Minimum(\"age\")) \\\n",
        "    .addAnalyzer(Maximum(\"age\"))  \\\n",
        "    .addAnalyzer(Mean(\"hours_per_week\"))  \\\n",
        "    .addAnalyzer(Mean(\"capital_gain\"))  \\\n",
        "    .addAnalyzer(ApproxCountDistinct(\"sex\"))  \\\n",
        "    .addAnalyzer(ApproxCountDistinct(\"race\"))  \\\n",
        "    .addAnalyzer(ApproxCountDistinct(\"marital_status\")) \\\n",
        "    .addAnalyzer(ApproxCountDistinct(\"workclass\"))  \\\n",
        "    .addAnalyzer(ApproxCountDistinct(\"native_country\"))  \\\n",
        "    .addAnalyzer(ApproxCountDistinct(\"occupation\"))  \\\n",
        "    .run()\n",
        "\n",
        "# Convert the result into a DataFrame for easy viewing\n",
        "analysis_result_df = AnalyzerContext.successMetricsAsDataFrame(spark, analysis_result)\n",
        "\n",
        "# Show the analysis results\n",
        "analysis_result_df.show(truncate=False)"
      ]
    },
    {
      "cell_type": "markdown",
      "source": [
        "# Step 9 : Some Custom Analysis"
      ],
      "metadata": {
        "id": "CrpfULH_hOqK"
      },
      "id": "CrpfULH_hOqK"
    },
    {
      "cell_type": "code",
      "execution_count": 54,
      "id": "A1QJ_iiS4s3O",
      "metadata": {
        "colab": {
          "base_uri": "https://localhost:8080/"
        },
        "id": "A1QJ_iiS4s3O",
        "outputId": "2836a70a-4185-42b5-bd80-639e873d54a0"
      },
      "outputs": [
        {
          "output_type": "stream",
          "name": "stdout",
          "text": [
            "=== Age Distribution Analysis ===\n",
            "+---+-----+\n",
            "|age|count|\n",
            "+---+-----+\n",
            "| 17|  594|\n",
            "| 18|  861|\n",
            "| 19| 1045|\n",
            "| 20| 1111|\n",
            "| 21| 1092|\n",
            "| 22| 1176|\n",
            "| 23| 1325|\n",
            "| 24| 1205|\n",
            "| 25| 1190|\n",
            "| 26| 1153|\n",
            "+---+-----+\n",
            "only showing top 10 rows\n",
            "\n",
            "=== Income Distribution by Education ===\n",
            "+---------+------+-----+\n",
            "|education|income|count|\n",
            "+---------+------+-----+\n",
            "|     10th| <=50K| 1302|\n",
            "|     10th|  >50K|   87|\n",
            "|     11th| <=50K| 1720|\n",
            "|     11th|  >50K|   92|\n",
            "|     12th| <=50K|  607|\n",
            "|     12th|  >50K|   48|\n",
            "|  1st-4th| <=50K|  237|\n",
            "|  1st-4th|  >50K|    8|\n",
            "|  5th-6th| <=50K|  480|\n",
            "|  5th-6th|  >50K|   27|\n",
            "+---------+------+-----+\n",
            "only showing top 10 rows\n",
            "\n"
          ]
        }
      ],
      "source": [
        "# Distribution of Age Groups\n",
        "print(\"=== Age Distribution Analysis ===\")\n",
        "adult_data.groupBy(\"age\").count().orderBy(\"age\").show(10)\n",
        "\n",
        "# Custom Analysis - Income Distribution by Education\n",
        "print(\"=== Income Distribution by Education ===\")\n",
        "adult_data.groupBy(\"education\", \"income\").count().orderBy(\"education\", \"income\").show(10)\n"
      ]
    },
    {
      "cell_type": "code",
      "execution_count": 57,
      "id": "yaPloGny4zFh",
      "metadata": {
        "id": "yaPloGny4zFh",
        "outputId": "4cb0405f-4b15-498d-a4ce-5556d3f9c9b7",
        "colab": {
          "base_uri": "https://localhost:8080/"
        }
      },
      "outputs": [
        {
          "output_type": "stream",
          "name": "stdout",
          "text": [
            "=== Occupation Distribution by Race ===\n",
            "+-------------------+------------------+-----+\n",
            "|               race|        occupation|count|\n",
            "+-------------------+------------------+-----+\n",
            "| Amer-Indian-Eskimo|                 ?|   35|\n",
            "| Amer-Indian-Eskimo|      Adm-clerical|   54|\n",
            "| Amer-Indian-Eskimo|      Armed-Forces|    1|\n",
            "| Amer-Indian-Eskimo|      Craft-repair|   61|\n",
            "| Amer-Indian-Eskimo|   Exec-managerial|   48|\n",
            "| Amer-Indian-Eskimo|   Farming-fishing|   14|\n",
            "| Amer-Indian-Eskimo| Handlers-cleaners|   34|\n",
            "| Amer-Indian-Eskimo| Machine-op-inspct|   28|\n",
            "| Amer-Indian-Eskimo|     Other-service|   61|\n",
            "| Amer-Indian-Eskimo|   Priv-house-serv|    1|\n",
            "| Amer-Indian-Eskimo|    Prof-specialty|   48|\n",
            "| Amer-Indian-Eskimo|   Protective-serv|   13|\n",
            "| Amer-Indian-Eskimo|             Sales|   36|\n",
            "| Amer-Indian-Eskimo|      Tech-support|    8|\n",
            "| Amer-Indian-Eskimo|  Transport-moving|   28|\n",
            "| Asian-Pac-Islander|                 ?|   96|\n",
            "| Asian-Pac-Islander|      Adm-clerical|  198|\n",
            "| Asian-Pac-Islander|      Craft-repair|  118|\n",
            "| Asian-Pac-Islander|   Exec-managerial|  193|\n",
            "| Asian-Pac-Islander|   Farming-fishing|   23|\n",
            "+-------------------+------------------+-----+\n",
            "only showing top 20 rows\n",
            "\n"
          ]
        }
      ],
      "source": [
        "# Occupation Distribution by Race\n",
        "print(\"=== Occupation Distribution by Race ===\")\n",
        "adult_data.groupBy(\"race\", \"occupation\").count().orderBy(\"race\", \"occupation\").show(20)"
      ]
    },
    {
      "cell_type": "code",
      "source": [
        "# Workclass and Age Distribution\n",
        "print(\"=== Workclass and Age Distribution ===\")\n",
        "workclass_age_distribution = adult_data.groupBy(\"workclass\", \"age\").count().orderBy(\"workclass\", \"age\")\n",
        "\n",
        "random_sample = workclass_age_distribution.sample(withReplacement=False, fraction=0.1)\n",
        "random_sample.show(20, truncate=False)"
      ],
      "metadata": {
        "id": "2POcRm1ohnYE",
        "outputId": "3b3e6039-2ee7-4a3f-9e73-240a23c5ea0a",
        "colab": {
          "base_uri": "https://localhost:8080/"
        }
      },
      "id": "2POcRm1ohnYE",
      "execution_count": 65,
      "outputs": [
        {
          "output_type": "stream",
          "name": "stdout",
          "text": [
            "=== Workclass and Age Distribution ===\n",
            "+------------+---+-----+\n",
            "|workclass   |age|count|\n",
            "+------------+---+-----+\n",
            "| ?          |17 |97   |\n",
            "| ?          |26 |38   |\n",
            "| ?          |29 |47   |\n",
            "| ?          |68 |40   |\n",
            "| ?          |70 |36   |\n",
            "| ?          |73 |26   |\n",
            "| Federal-gov|20 |13   |\n",
            "| Federal-gov|51 |35   |\n",
            "| Local-gov  |19 |18   |\n",
            "| Local-gov  |24 |56   |\n",
            "| Local-gov  |37 |91   |\n",
            "| Local-gov  |40 |78   |\n",
            "| Local-gov  |44 |92   |\n",
            "| Local-gov  |46 |111  |\n",
            "| Local-gov  |50 |82   |\n",
            "| Local-gov  |53 |70   |\n",
            "| Local-gov  |63 |20   |\n",
            "| Local-gov  |75 |2    |\n",
            "| Local-gov  |80 |2    |\n",
            "| Private    |26 |922  |\n",
            "+------------+---+-----+\n",
            "only showing top 20 rows\n",
            "\n"
          ]
        }
      ]
    },
    {
      "cell_type": "code",
      "source": [],
      "metadata": {
        "id": "OjA7B1bwh3tb"
      },
      "id": "OjA7B1bwh3tb",
      "execution_count": null,
      "outputs": []
    }
  ],
  "metadata": {
    "colab": {
      "provenance": []
    },
    "kernelspec": {
      "display_name": "Python 3",
      "name": "python3"
    },
    "language_info": {
      "name": "python"
    }
  },
  "nbformat": 4,
  "nbformat_minor": 5
}