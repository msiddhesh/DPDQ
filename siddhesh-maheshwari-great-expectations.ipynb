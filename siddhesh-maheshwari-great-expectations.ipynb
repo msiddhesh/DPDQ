{
 "cells": [
  {
   "cell_type": "markdown",
   "metadata": {},
   "source": [
    "<h1 style=\"text-align: center;\">DPDQ HW</h1>\n",
    "<h2 style=\"text-align: center;\">Name : Siddhesh Maheshwari</h2>\n",
    "<h2 style=\"text-align: center;\">MDS202347</h2>"
   ]
  },
  {
   "cell_type": "markdown",
   "metadata": {},
   "source": [
    "# Data Quality Analysis on Adult Dataset\n",
    "#### Using Great Expectations"
   ]
  },
  {
   "cell_type": "markdown",
   "metadata": {},
   "source": [
    "##### **Importing necessary lib and dataset**"
   ]
  },
  {
   "cell_type": "code",
   "execution_count": 1,
   "metadata": {},
   "outputs": [],
   "source": [
    "import warnings\n",
    "warnings.filterwarnings( \"ignore\",    message=\".*should_run_async.*\",category=DeprecationWarning)\n",
    "warnings.filterwarnings(\"ignore\")"
   ]
  },
  {
   "cell_type": "code",
   "execution_count": 2,
   "metadata": {
    "_cell_guid": "b1076dfc-b9ad-4769-8c92-a6c4dae69d19",
    "_uuid": "8f2839f25d086af736a60e9eeb907d3b93b6e0e5",
    "execution": {
     "iopub.execute_input": "2025-04-12T14:24:21.984335Z",
     "iopub.status.busy": "2025-04-12T14:24:21.983841Z",
     "iopub.status.idle": "2025-04-12T14:24:21.994777Z",
     "shell.execute_reply": "2025-04-12T14:24:21.993570Z",
     "shell.execute_reply.started": "2025-04-12T14:24:21.984293Z"
    },
    "trusted": true
   },
   "outputs": [],
   "source": [
    "import pandas as pd\n",
    "import numpy as np\n",
    "import matplotlib.pyplot as plt\n",
    "import os\n",
    "from IPython.core.display import display, HTML\n",
    "for dirname, _, filenames in os.walk(f'E:\\Sem 4\\DPDQ\\HW1\\DPDQ\\adult'):\n",
    "    for filename in filenames:\n",
    "        print(os.path.join(dirname, filename))"
   ]
  },
  {
   "cell_type": "code",
   "execution_count": 3,
   "metadata": {
    "execution": {
     "iopub.execute_input": "2025-04-12T14:24:09.083244Z",
     "iopub.status.busy": "2025-04-12T14:24:09.082618Z",
     "iopub.status.idle": "2025-04-12T14:24:09.095937Z",
     "shell.execute_reply": "2025-04-12T14:24:09.094573Z",
     "shell.execute_reply.started": "2025-04-12T14:24:09.083108Z"
    },
    "trusted": true
   },
   "outputs": [],
   "source": [
    "# !pip install great_expectations"
   ]
  },
  {
   "cell_type": "markdown",
   "metadata": {},
   "source": [
    "## Data loading and basic data cleaning like data type changing "
   ]
  },
  {
   "cell_type": "code",
   "execution_count": 4,
   "metadata": {
    "execution": {
     "iopub.execute_input": "2025-04-12T14:24:27.659216Z",
     "iopub.status.busy": "2025-04-12T14:24:27.658872Z",
     "iopub.status.idle": "2025-04-12T14:24:27.812208Z",
     "shell.execute_reply": "2025-04-12T14:24:27.811226Z",
     "shell.execute_reply.started": "2025-04-12T14:24:27.659190Z"
    },
    "trusted": true
   },
   "outputs": [],
   "source": [
    "column_names = [\n",
    "    'age', 'workclass', \"fnlwgt\",'education', 'education-num', 'marital-status', \n",
    "    'occupation', 'relationship', 'race', 'sex', 'capital-gain', \n",
    "    'capital-loss', 'hours-per-week', 'native-country', 'income'\n",
    "]\n",
    "input\n",
    "adult_data = pd.read_csv(r\"E:\\Sem 4\\DPDQ\\HW1\\adult\\adult.data\", names=column_names)\n",
    "adult_test = pd.read_csv(r\"E:\\Sem 4\\DPDQ\\HW1\\adult\\adult.test\", names=column_names)\n",
    "adult_test.drop(index=0,inplace=True)\n",
    "\n",
    "adult_data_full = pd.concat([adult_data, adult_test], axis=0)\n",
    "\n",
    "adult_data_full.index = adult_data_full.index.astype(str)\n",
    "\n",
    "int_columns = ['age', 'fnlwgt', 'education-num', 'capital-gain', 'capital-loss', 'hours-per-week']\n",
    "for col in int_columns:\n",
    "    adult_data_full[col] = adult_data_full[col].astype(int)"
   ]
  },
  {
   "cell_type": "code",
   "execution_count": 5,
   "metadata": {
    "execution": {
     "iopub.execute_input": "2025-04-12T14:24:29.688628Z",
     "iopub.status.busy": "2025-04-12T14:24:29.688239Z",
     "iopub.status.idle": "2025-04-12T14:24:29.706280Z",
     "shell.execute_reply": "2025-04-12T14:24:29.705194Z",
     "shell.execute_reply.started": "2025-04-12T14:24:29.688598Z"
    },
    "trusted": true
   },
   "outputs": [
    {
     "data": {
      "text/html": [
       "<div>\n",
       "<style scoped>\n",
       "    .dataframe tbody tr th:only-of-type {\n",
       "        vertical-align: middle;\n",
       "    }\n",
       "\n",
       "    .dataframe tbody tr th {\n",
       "        vertical-align: top;\n",
       "    }\n",
       "\n",
       "    .dataframe thead th {\n",
       "        text-align: right;\n",
       "    }\n",
       "</style>\n",
       "<table border=\"1\" class=\"dataframe\">\n",
       "  <thead>\n",
       "    <tr style=\"text-align: right;\">\n",
       "      <th></th>\n",
       "      <th>age</th>\n",
       "      <th>workclass</th>\n",
       "      <th>fnlwgt</th>\n",
       "      <th>education</th>\n",
       "      <th>education-num</th>\n",
       "      <th>marital-status</th>\n",
       "      <th>occupation</th>\n",
       "      <th>relationship</th>\n",
       "      <th>race</th>\n",
       "      <th>sex</th>\n",
       "      <th>capital-gain</th>\n",
       "      <th>capital-loss</th>\n",
       "      <th>hours-per-week</th>\n",
       "      <th>native-country</th>\n",
       "      <th>income</th>\n",
       "    </tr>\n",
       "  </thead>\n",
       "  <tbody>\n",
       "    <tr>\n",
       "      <th>19628</th>\n",
       "      <td>36</td>\n",
       "      <td>State-gov</td>\n",
       "      <td>76767</td>\n",
       "      <td>Some-college</td>\n",
       "      <td>10</td>\n",
       "      <td>Divorced</td>\n",
       "      <td>Exec-managerial</td>\n",
       "      <td>Not-in-family</td>\n",
       "      <td>White</td>\n",
       "      <td>Female</td>\n",
       "      <td>0</td>\n",
       "      <td>0</td>\n",
       "      <td>39</td>\n",
       "      <td>United-States</td>\n",
       "      <td>&lt;=50K</td>\n",
       "    </tr>\n",
       "    <tr>\n",
       "      <th>7252</th>\n",
       "      <td>59</td>\n",
       "      <td>?</td>\n",
       "      <td>259673</td>\n",
       "      <td>Some-college</td>\n",
       "      <td>10</td>\n",
       "      <td>Married-civ-spouse</td>\n",
       "      <td>?</td>\n",
       "      <td>Husband</td>\n",
       "      <td>Other</td>\n",
       "      <td>Male</td>\n",
       "      <td>0</td>\n",
       "      <td>0</td>\n",
       "      <td>40</td>\n",
       "      <td>Puerto-Rico</td>\n",
       "      <td>&lt;=50K.</td>\n",
       "    </tr>\n",
       "    <tr>\n",
       "      <th>13826</th>\n",
       "      <td>26</td>\n",
       "      <td>Private</td>\n",
       "      <td>56929</td>\n",
       "      <td>Bachelors</td>\n",
       "      <td>13</td>\n",
       "      <td>Never-married</td>\n",
       "      <td>Exec-managerial</td>\n",
       "      <td>Not-in-family</td>\n",
       "      <td>Black</td>\n",
       "      <td>Male</td>\n",
       "      <td>0</td>\n",
       "      <td>0</td>\n",
       "      <td>50</td>\n",
       "      <td>?</td>\n",
       "      <td>&lt;=50K</td>\n",
       "    </tr>\n",
       "    <tr>\n",
       "      <th>13811</th>\n",
       "      <td>43</td>\n",
       "      <td>State-gov</td>\n",
       "      <td>598995</td>\n",
       "      <td>Bachelors</td>\n",
       "      <td>13</td>\n",
       "      <td>Married-civ-spouse</td>\n",
       "      <td>Prof-specialty</td>\n",
       "      <td>Wife</td>\n",
       "      <td>Black</td>\n",
       "      <td>Female</td>\n",
       "      <td>3103</td>\n",
       "      <td>0</td>\n",
       "      <td>40</td>\n",
       "      <td>United-States</td>\n",
       "      <td>&gt;50K.</td>\n",
       "    </tr>\n",
       "    <tr>\n",
       "      <th>4918</th>\n",
       "      <td>41</td>\n",
       "      <td>Self-emp-not-inc</td>\n",
       "      <td>443508</td>\n",
       "      <td>HS-grad</td>\n",
       "      <td>9</td>\n",
       "      <td>Married-civ-spouse</td>\n",
       "      <td>Exec-managerial</td>\n",
       "      <td>Husband</td>\n",
       "      <td>White</td>\n",
       "      <td>Male</td>\n",
       "      <td>0</td>\n",
       "      <td>0</td>\n",
       "      <td>50</td>\n",
       "      <td>United-States</td>\n",
       "      <td>&lt;=50K</td>\n",
       "    </tr>\n",
       "  </tbody>\n",
       "</table>\n",
       "</div>"
      ],
      "text/plain": [
       "       age          workclass  fnlwgt      education  education-num  \\\n",
       "19628   36          State-gov   76767   Some-college             10   \n",
       "7252    59                  ?  259673   Some-college             10   \n",
       "13826   26            Private   56929      Bachelors             13   \n",
       "13811   43          State-gov  598995      Bachelors             13   \n",
       "4918    41   Self-emp-not-inc  443508        HS-grad              9   \n",
       "\n",
       "            marital-status        occupation    relationship    race      sex  \\\n",
       "19628             Divorced   Exec-managerial   Not-in-family   White   Female   \n",
       "7252    Married-civ-spouse                 ?         Husband   Other     Male   \n",
       "13826        Never-married   Exec-managerial   Not-in-family   Black     Male   \n",
       "13811   Married-civ-spouse    Prof-specialty            Wife   Black   Female   \n",
       "4918    Married-civ-spouse   Exec-managerial         Husband   White     Male   \n",
       "\n",
       "       capital-gain  capital-loss  hours-per-week  native-country   income  \n",
       "19628             0             0              39   United-States    <=50K  \n",
       "7252              0             0              40     Puerto-Rico   <=50K.  \n",
       "13826             0             0              50               ?    <=50K  \n",
       "13811          3103             0              40   United-States    >50K.  \n",
       "4918              0             0              50   United-States    <=50K  "
      ]
     },
     "execution_count": 5,
     "metadata": {},
     "output_type": "execute_result"
    }
   ],
   "source": [
    "adult_data_full.sample(5)"
   ]
  },
  {
   "cell_type": "code",
   "execution_count": 6,
   "metadata": {
    "execution": {
     "iopub.execute_input": "2025-04-12T14:24:29.949260Z",
     "iopub.status.busy": "2025-04-12T14:24:29.948902Z",
     "iopub.status.idle": "2025-04-12T14:24:29.983328Z",
     "shell.execute_reply": "2025-04-12T14:24:29.982204Z",
     "shell.execute_reply.started": "2025-04-12T14:24:29.949227Z"
    },
    "trusted": true
   },
   "outputs": [
    {
     "name": "stdout",
     "output_type": "stream",
     "text": [
      "<class 'pandas.core.frame.DataFrame'>\n",
      "Index: 48842 entries, 0 to 16281\n",
      "Data columns (total 15 columns):\n",
      " #   Column          Non-Null Count  Dtype \n",
      "---  ------          --------------  ----- \n",
      " 0   age             48842 non-null  int32 \n",
      " 1   workclass       48842 non-null  object\n",
      " 2   fnlwgt          48842 non-null  int32 \n",
      " 3   education       48842 non-null  object\n",
      " 4   education-num   48842 non-null  int32 \n",
      " 5   marital-status  48842 non-null  object\n",
      " 6   occupation      48842 non-null  object\n",
      " 7   relationship    48842 non-null  object\n",
      " 8   race            48842 non-null  object\n",
      " 9   sex             48842 non-null  object\n",
      " 10  capital-gain    48842 non-null  int32 \n",
      " 11  capital-loss    48842 non-null  int32 \n",
      " 12  hours-per-week  48842 non-null  int32 \n",
      " 13  native-country  48842 non-null  object\n",
      " 14  income          48842 non-null  object\n",
      "dtypes: int32(6), object(9)\n",
      "memory usage: 4.8+ MB\n"
     ]
    }
   ],
   "source": [
    "adult_data_full.info()"
   ]
  },
  {
   "cell_type": "code",
   "execution_count": 7,
   "metadata": {
    "execution": {
     "iopub.execute_input": "2025-04-12T14:24:32.327613Z",
     "iopub.status.busy": "2025-04-12T14:24:32.327254Z",
     "iopub.status.idle": "2025-04-12T14:24:32.420698Z",
     "shell.execute_reply": "2025-04-12T14:24:32.419426Z",
     "shell.execute_reply.started": "2025-04-12T14:24:32.327586Z"
    },
    "trusted": true
   },
   "outputs": [],
   "source": [
    "string_columns = adult_data_full.select_dtypes(include=['object']).columns\n",
    "\n",
    "for col in string_columns:\n",
    "    adult_data_full[col] = adult_data_full[col].str.strip()"
   ]
  },
  {
   "cell_type": "code",
   "execution_count": 8,
   "metadata": {},
   "outputs": [
    {
     "data": {
      "text/plain": [
       "Index(['workclass', 'education', 'marital-status', 'occupation',\n",
       "       'relationship', 'race', 'sex', 'native-country', 'income'],\n",
       "      dtype='object')"
      ]
     },
     "execution_count": 8,
     "metadata": {},
     "output_type": "execute_result"
    }
   ],
   "source": [
    "string_columns"
   ]
  },
  {
   "cell_type": "code",
   "execution_count": 9,
   "metadata": {
    "execution": {
     "iopub.execute_input": "2025-04-12T14:24:32.978130Z",
     "iopub.status.busy": "2025-04-12T14:24:32.977786Z",
     "iopub.status.idle": "2025-04-12T14:24:32.984223Z",
     "shell.execute_reply": "2025-04-12T14:24:32.983303Z",
     "shell.execute_reply.started": "2025-04-12T14:24:32.978101Z"
    },
    "trusted": true
   },
   "outputs": [
    {
     "data": {
      "text/plain": [
       "(48842, 15)"
      ]
     },
     "execution_count": 9,
     "metadata": {},
     "output_type": "execute_result"
    }
   ],
   "source": [
    "adult_data_full.shape"
   ]
  },
  {
   "cell_type": "code",
   "execution_count": 10,
   "metadata": {},
   "outputs": [
    {
     "data": {
      "text/html": [
       "<div>\n",
       "<style scoped>\n",
       "    .dataframe tbody tr th:only-of-type {\n",
       "        vertical-align: middle;\n",
       "    }\n",
       "\n",
       "    .dataframe tbody tr th {\n",
       "        vertical-align: top;\n",
       "    }\n",
       "\n",
       "    .dataframe thead th {\n",
       "        text-align: right;\n",
       "    }\n",
       "</style>\n",
       "<table border=\"1\" class=\"dataframe\">\n",
       "  <thead>\n",
       "    <tr style=\"text-align: right;\">\n",
       "      <th></th>\n",
       "      <th>age</th>\n",
       "      <th>workclass</th>\n",
       "      <th>fnlwgt</th>\n",
       "      <th>education</th>\n",
       "      <th>education-num</th>\n",
       "      <th>marital-status</th>\n",
       "      <th>occupation</th>\n",
       "      <th>relationship</th>\n",
       "      <th>race</th>\n",
       "      <th>sex</th>\n",
       "      <th>capital-gain</th>\n",
       "      <th>capital-loss</th>\n",
       "      <th>hours-per-week</th>\n",
       "      <th>native-country</th>\n",
       "      <th>income</th>\n",
       "    </tr>\n",
       "  </thead>\n",
       "  <tbody>\n",
       "    <tr>\n",
       "      <th>5573</th>\n",
       "      <td>33</td>\n",
       "      <td>Private</td>\n",
       "      <td>164748</td>\n",
       "      <td>Bachelors</td>\n",
       "      <td>13</td>\n",
       "      <td>Married-civ-spouse</td>\n",
       "      <td>Transport-moving</td>\n",
       "      <td>Husband</td>\n",
       "      <td>White</td>\n",
       "      <td>Male</td>\n",
       "      <td>0</td>\n",
       "      <td>0</td>\n",
       "      <td>40</td>\n",
       "      <td>United-States</td>\n",
       "      <td>&lt;=50K</td>\n",
       "    </tr>\n",
       "    <tr>\n",
       "      <th>22974</th>\n",
       "      <td>32</td>\n",
       "      <td>Private</td>\n",
       "      <td>239659</td>\n",
       "      <td>Some-college</td>\n",
       "      <td>10</td>\n",
       "      <td>Separated</td>\n",
       "      <td>Machine-op-inspct</td>\n",
       "      <td>Unmarried</td>\n",
       "      <td>Black</td>\n",
       "      <td>Female</td>\n",
       "      <td>0</td>\n",
       "      <td>0</td>\n",
       "      <td>70</td>\n",
       "      <td>United-States</td>\n",
       "      <td>&lt;=50K</td>\n",
       "    </tr>\n",
       "    <tr>\n",
       "      <th>8888</th>\n",
       "      <td>29</td>\n",
       "      <td>Private</td>\n",
       "      <td>226295</td>\n",
       "      <td>HS-grad</td>\n",
       "      <td>9</td>\n",
       "      <td>Never-married</td>\n",
       "      <td>Handlers-cleaners</td>\n",
       "      <td>Not-in-family</td>\n",
       "      <td>White</td>\n",
       "      <td>Male</td>\n",
       "      <td>0</td>\n",
       "      <td>0</td>\n",
       "      <td>36</td>\n",
       "      <td>United-States</td>\n",
       "      <td>&lt;=50K.</td>\n",
       "    </tr>\n",
       "    <tr>\n",
       "      <th>5126</th>\n",
       "      <td>42</td>\n",
       "      <td>Private</td>\n",
       "      <td>173938</td>\n",
       "      <td>Bachelors</td>\n",
       "      <td>13</td>\n",
       "      <td>Married-civ-spouse</td>\n",
       "      <td>Other-service</td>\n",
       "      <td>Husband</td>\n",
       "      <td>White</td>\n",
       "      <td>Male</td>\n",
       "      <td>0</td>\n",
       "      <td>0</td>\n",
       "      <td>40</td>\n",
       "      <td>?</td>\n",
       "      <td>&lt;=50K.</td>\n",
       "    </tr>\n",
       "    <tr>\n",
       "      <th>980</th>\n",
       "      <td>49</td>\n",
       "      <td>Private</td>\n",
       "      <td>123207</td>\n",
       "      <td>HS-grad</td>\n",
       "      <td>9</td>\n",
       "      <td>Never-married</td>\n",
       "      <td>Adm-clerical</td>\n",
       "      <td>Not-in-family</td>\n",
       "      <td>White</td>\n",
       "      <td>Female</td>\n",
       "      <td>0</td>\n",
       "      <td>0</td>\n",
       "      <td>44</td>\n",
       "      <td>United-States</td>\n",
       "      <td>&lt;=50K</td>\n",
       "    </tr>\n",
       "  </tbody>\n",
       "</table>\n",
       "</div>"
      ],
      "text/plain": [
       "       age workclass  fnlwgt     education  education-num      marital-status  \\\n",
       "5573    33   Private  164748     Bachelors             13  Married-civ-spouse   \n",
       "22974   32   Private  239659  Some-college             10           Separated   \n",
       "8888    29   Private  226295       HS-grad              9       Never-married   \n",
       "5126    42   Private  173938     Bachelors             13  Married-civ-spouse   \n",
       "980     49   Private  123207       HS-grad              9       Never-married   \n",
       "\n",
       "              occupation   relationship   race     sex  capital-gain  \\\n",
       "5573    Transport-moving        Husband  White    Male             0   \n",
       "22974  Machine-op-inspct      Unmarried  Black  Female             0   \n",
       "8888   Handlers-cleaners  Not-in-family  White    Male             0   \n",
       "5126       Other-service        Husband  White    Male             0   \n",
       "980         Adm-clerical  Not-in-family  White  Female             0   \n",
       "\n",
       "       capital-loss  hours-per-week native-country  income  \n",
       "5573              0              40  United-States   <=50K  \n",
       "22974             0              70  United-States   <=50K  \n",
       "8888              0              36  United-States  <=50K.  \n",
       "5126              0              40              ?  <=50K.  \n",
       "980               0              44  United-States   <=50K  "
      ]
     },
     "execution_count": 10,
     "metadata": {},
     "output_type": "execute_result"
    }
   ],
   "source": [
    "adult_data_full.sample(5)"
   ]
  },
  {
   "cell_type": "markdown",
   "metadata": {},
   "source": [
    "# **Great Expectation**"
   ]
  },
  {
   "cell_type": "code",
   "execution_count": 11,
   "metadata": {},
   "outputs": [
    {
     "name": "stdout",
     "output_type": "stream",
     "text": [
      "1.0.0a1\n"
     ]
    }
   ],
   "source": [
    "import great_expectations as gx\n",
    "print(gx.__version__)"
   ]
  },
  {
   "cell_type": "code",
   "execution_count": 12,
   "metadata": {},
   "outputs": [],
   "source": [
    "from great_expectations import get_context  \n",
    "\n",
    "# Initialize the DataContext\n",
    "context = get_context()\n",
    "\n",
    "# Now you can create your dataset with the active context\n",
    "adult_data_gx = gx.dataset.PandasDataset(adult_data_full)"
   ]
  },
  {
   "cell_type": "code",
   "execution_count": 13,
   "metadata": {},
   "outputs": [
    {
     "data": {
      "text/plain": [
       "{\n",
       "  \"success\": true,\n",
       "  \"result\": {\n",
       "    \"element_count\": 48842,\n",
       "    \"missing_count\": 0,\n",
       "    \"missing_percent\": 0.0,\n",
       "    \"unexpected_count\": 0,\n",
       "    \"unexpected_percent\": 0.0,\n",
       "    \"unexpected_percent_total\": 0.0,\n",
       "    \"unexpected_percent_nonmissing\": 0.0,\n",
       "    \"partial_unexpected_list\": []\n",
       "  },\n",
       "  \"meta\": {},\n",
       "  \"exception_info\": {\n",
       "    \"raised_exception\": false,\n",
       "    \"exception_traceback\": null,\n",
       "    \"exception_message\": null\n",
       "  }\n",
       "}"
      ]
     },
     "execution_count": 13,
     "metadata": {},
     "output_type": "execute_result"
    }
   ],
   "source": [
    "adult_data_gx.expect_column_values_to_be_between(\"age\",min_value=1, max_value=100)"
   ]
  },
  {
   "cell_type": "code",
   "execution_count": 14,
   "metadata": {},
   "outputs": [
    {
     "data": {
      "text/plain": [
       "{\n",
       "  \"success\": true,\n",
       "  \"result\": {\n",
       "    \"element_count\": 48842,\n",
       "    \"missing_count\": 0,\n",
       "    \"missing_percent\": 0.0,\n",
       "    \"unexpected_count\": 0,\n",
       "    \"unexpected_percent\": 0.0,\n",
       "    \"unexpected_percent_total\": 0.0,\n",
       "    \"unexpected_percent_nonmissing\": 0.0,\n",
       "    \"partial_unexpected_list\": []\n",
       "  },\n",
       "  \"meta\": {},\n",
       "  \"exception_info\": {\n",
       "    \"raised_exception\": false,\n",
       "    \"exception_traceback\": null,\n",
       "    \"exception_message\": null\n",
       "  }\n",
       "}"
      ]
     },
     "execution_count": 14,
     "metadata": {},
     "output_type": "execute_result"
    }
   ],
   "source": [
    "adult_data_gx.expect_column_values_to_be_in_set(\"workclass\", ('Private', 'Self-emp-not-inc', 'Self-emp-inc', 'Federal-gov', 'Local-gov', 'State-gov', 'Without-pay', 'Never-worked',\"?\"))"
   ]
  },
  {
   "cell_type": "code",
   "execution_count": 15,
   "metadata": {},
   "outputs": [
    {
     "data": {
      "text/plain": [
       "{\n",
       "  \"success\": true,\n",
       "  \"result\": {\n",
       "    \"element_count\": 48842,\n",
       "    \"missing_count\": 0,\n",
       "    \"missing_percent\": 0.0,\n",
       "    \"unexpected_count\": 0,\n",
       "    \"unexpected_percent\": 0.0,\n",
       "    \"unexpected_percent_total\": 0.0,\n",
       "    \"unexpected_percent_nonmissing\": 0.0,\n",
       "    \"partial_unexpected_list\": []\n",
       "  },\n",
       "  \"meta\": {},\n",
       "  \"exception_info\": {\n",
       "    \"raised_exception\": false,\n",
       "    \"exception_traceback\": null,\n",
       "    \"exception_message\": null\n",
       "  }\n",
       "}"
      ]
     },
     "execution_count": 15,
     "metadata": {},
     "output_type": "execute_result"
    }
   ],
   "source": [
    "adult_data_gx.expect_column_values_to_be_in_set(\"education\", ('Bachelors', 'Some-college', '11th', 'HS-grad', 'Prof-school', 'Assoc-acdm', 'Assoc-voc', '9th', '7th-8th', '12th', 'Masters', '1st-4th', '10th', 'Doctorate', '5th-6th', 'Preschool'))\n"
   ]
  },
  {
   "cell_type": "code",
   "execution_count": 16,
   "metadata": {},
   "outputs": [
    {
     "data": {
      "text/plain": [
       "{\n",
       "  \"success\": true,\n",
       "  \"result\": {\n",
       "    \"element_count\": 48842,\n",
       "    \"missing_count\": 0,\n",
       "    \"missing_percent\": 0.0,\n",
       "    \"unexpected_count\": 0,\n",
       "    \"unexpected_percent\": 0.0,\n",
       "    \"unexpected_percent_total\": 0.0,\n",
       "    \"unexpected_percent_nonmissing\": 0.0,\n",
       "    \"partial_unexpected_list\": []\n",
       "  },\n",
       "  \"meta\": {},\n",
       "  \"exception_info\": {\n",
       "    \"raised_exception\": false,\n",
       "    \"exception_traceback\": null,\n",
       "    \"exception_message\": null\n",
       "  }\n",
       "}"
      ]
     },
     "execution_count": 16,
     "metadata": {},
     "output_type": "execute_result"
    }
   ],
   "source": [
    "adult_data_gx.expect_column_values_to_be_in_set(\"marital-status\", ('Married-civ-spouse', 'Divorced', 'Never-married', 'Separated', 'Widowed', 'Married-spouse-absent', 'Married-AF-spouse'))"
   ]
  },
  {
   "cell_type": "code",
   "execution_count": 17,
   "metadata": {},
   "outputs": [
    {
     "data": {
      "text/plain": [
       "{\n",
       "  \"success\": true,\n",
       "  \"result\": {\n",
       "    \"element_count\": 48842,\n",
       "    \"missing_count\": 0,\n",
       "    \"missing_percent\": 0.0,\n",
       "    \"unexpected_count\": 0,\n",
       "    \"unexpected_percent\": 0.0,\n",
       "    \"unexpected_percent_total\": 0.0,\n",
       "    \"unexpected_percent_nonmissing\": 0.0,\n",
       "    \"partial_unexpected_list\": []\n",
       "  },\n",
       "  \"meta\": {},\n",
       "  \"exception_info\": {\n",
       "    \"raised_exception\": false,\n",
       "    \"exception_traceback\": null,\n",
       "    \"exception_message\": null\n",
       "  }\n",
       "}"
      ]
     },
     "execution_count": 17,
     "metadata": {},
     "output_type": "execute_result"
    }
   ],
   "source": [
    "adult_data_gx.expect_column_values_to_be_in_set(\"occupation\", (\"?\",'Tech-support', 'Craft-repair', 'Other-service', 'Sales', 'Exec-managerial', 'Prof-specialty', 'Handlers-cleaners', 'Machine-op-inspct', 'Adm-clerical', 'Farming-fishing', 'Transport-moving', 'Priv-house-serv', 'Protective-serv', 'Armed-Forces'))"
   ]
  },
  {
   "cell_type": "code",
   "execution_count": 18,
   "metadata": {},
   "outputs": [
    {
     "data": {
      "text/plain": [
       "{\n",
       "  \"success\": true,\n",
       "  \"result\": {\n",
       "    \"element_count\": 48842,\n",
       "    \"missing_count\": 0,\n",
       "    \"missing_percent\": 0.0,\n",
       "    \"unexpected_count\": 0,\n",
       "    \"unexpected_percent\": 0.0,\n",
       "    \"unexpected_percent_total\": 0.0,\n",
       "    \"unexpected_percent_nonmissing\": 0.0,\n",
       "    \"partial_unexpected_list\": []\n",
       "  },\n",
       "  \"meta\": {},\n",
       "  \"exception_info\": {\n",
       "    \"raised_exception\": false,\n",
       "    \"exception_traceback\": null,\n",
       "    \"exception_message\": null\n",
       "  }\n",
       "}"
      ]
     },
     "execution_count": 18,
     "metadata": {},
     "output_type": "execute_result"
    }
   ],
   "source": [
    "adult_data_gx.expect_column_values_to_be_in_set(\"relationship\", ('Wife', 'Own-child', 'Husband', 'Not-in-family', 'Other-relative', 'Unmarried'))"
   ]
  },
  {
   "cell_type": "code",
   "execution_count": 19,
   "metadata": {},
   "outputs": [
    {
     "data": {
      "text/plain": [
       "{\n",
       "  \"success\": true,\n",
       "  \"result\": {\n",
       "    \"element_count\": 48842,\n",
       "    \"missing_count\": 0,\n",
       "    \"missing_percent\": 0.0,\n",
       "    \"unexpected_count\": 0,\n",
       "    \"unexpected_percent\": 0.0,\n",
       "    \"unexpected_percent_total\": 0.0,\n",
       "    \"unexpected_percent_nonmissing\": 0.0,\n",
       "    \"partial_unexpected_list\": []\n",
       "  },\n",
       "  \"meta\": {},\n",
       "  \"exception_info\": {\n",
       "    \"raised_exception\": false,\n",
       "    \"exception_traceback\": null,\n",
       "    \"exception_message\": null\n",
       "  }\n",
       "}"
      ]
     },
     "execution_count": 19,
     "metadata": {},
     "output_type": "execute_result"
    }
   ],
   "source": [
    "adult_data_gx.expect_column_values_to_be_in_set(\"race\", ('White', 'Asian-Pac-Islander', 'Amer-Indian-Eskimo', 'Other', 'Black'))"
   ]
  },
  {
   "cell_type": "code",
   "execution_count": 20,
   "metadata": {},
   "outputs": [
    {
     "data": {
      "text/plain": [
       "{\n",
       "  \"success\": true,\n",
       "  \"result\": {\n",
       "    \"element_count\": 48842,\n",
       "    \"missing_count\": 0,\n",
       "    \"missing_percent\": 0.0,\n",
       "    \"unexpected_count\": 0,\n",
       "    \"unexpected_percent\": 0.0,\n",
       "    \"unexpected_percent_total\": 0.0,\n",
       "    \"unexpected_percent_nonmissing\": 0.0,\n",
       "    \"partial_unexpected_list\": []\n",
       "  },\n",
       "  \"meta\": {},\n",
       "  \"exception_info\": {\n",
       "    \"raised_exception\": false,\n",
       "    \"exception_traceback\": null,\n",
       "    \"exception_message\": null\n",
       "  }\n",
       "}"
      ]
     },
     "execution_count": 20,
     "metadata": {},
     "output_type": "execute_result"
    }
   ],
   "source": [
    "adult_data_gx.expect_column_values_to_be_in_set(\"sex\", ('Female', 'Male'))"
   ]
  },
  {
   "cell_type": "code",
   "execution_count": 21,
   "metadata": {},
   "outputs": [
    {
     "data": {
      "text/plain": [
       "{\n",
       "  \"success\": true,\n",
       "  \"result\": {\n",
       "    \"element_count\": 48842,\n",
       "    \"missing_count\": 0,\n",
       "    \"missing_percent\": 0.0,\n",
       "    \"unexpected_count\": 0,\n",
       "    \"unexpected_percent\": 0.0,\n",
       "    \"unexpected_percent_total\": 0.0,\n",
       "    \"unexpected_percent_nonmissing\": 0.0,\n",
       "    \"partial_unexpected_list\": []\n",
       "  },\n",
       "  \"meta\": {},\n",
       "  \"exception_info\": {\n",
       "    \"raised_exception\": false,\n",
       "    \"exception_traceback\": null,\n",
       "    \"exception_message\": null\n",
       "  }\n",
       "}"
      ]
     },
     "execution_count": 21,
     "metadata": {},
     "output_type": "execute_result"
    }
   ],
   "source": [
    "adult_data_gx.expect_column_values_to_be_in_set(\"native-country\", (\"?\",'United-States', 'Cambodia', 'England', 'Puerto-Rico', 'Canada', 'Germany', 'Outlying-US(Guam-USVI-etc)', 'India', 'Japan', 'Greece', 'South', 'China', 'Cuba', 'Iran', 'Honduras', 'Philippines', 'Italy', 'Poland', 'Jamaica', 'Vietnam', 'Mexico', 'Portugal', 'Ireland', 'France', 'Dominican-Republic', 'Laos', 'Ecuador', 'Taiwan', 'Haiti', 'Columbia', 'Hungary', 'Guatemala', 'Nicaragua', 'Scotland', 'Thailand', 'Yugoslavia', 'El-Salvador', 'Trinadad&Tobago', 'Peru', 'Hong', 'Holand-Netherlands'))"
   ]
  },
  {
   "cell_type": "code",
   "execution_count": 22,
   "metadata": {},
   "outputs": [
    {
     "data": {
      "text/plain": [
       "{\n",
       "  \"success\": false,\n",
       "  \"result\": {\n",
       "    \"element_count\": 48842,\n",
       "    \"missing_count\": 0,\n",
       "    \"missing_percent\": 0.0,\n",
       "    \"unexpected_count\": 16281,\n",
       "    \"unexpected_percent\": 33.33401580606854,\n",
       "    \"unexpected_percent_total\": 33.33401580606854,\n",
       "    \"unexpected_percent_nonmissing\": 33.33401580606854,\n",
       "    \"partial_unexpected_list\": [\n",
       "      \"<=50K.\",\n",
       "      \"<=50K.\",\n",
       "      \">50K.\",\n",
       "      \">50K.\",\n",
       "      \"<=50K.\",\n",
       "      \"<=50K.\",\n",
       "      \"<=50K.\",\n",
       "      \">50K.\",\n",
       "      \"<=50K.\",\n",
       "      \"<=50K.\",\n",
       "      \">50K.\",\n",
       "      \"<=50K.\",\n",
       "      \"<=50K.\",\n",
       "      \"<=50K.\",\n",
       "      \">50K.\",\n",
       "      \">50K.\",\n",
       "      \"<=50K.\",\n",
       "      \"<=50K.\",\n",
       "      \"<=50K.\",\n",
       "      \">50K.\"\n",
       "    ]\n",
       "  },\n",
       "  \"meta\": {},\n",
       "  \"exception_info\": {\n",
       "    \"raised_exception\": false,\n",
       "    \"exception_traceback\": null,\n",
       "    \"exception_message\": null\n",
       "  }\n",
       "}"
      ]
     },
     "execution_count": 22,
     "metadata": {},
     "output_type": "execute_result"
    }
   ],
   "source": [
    "adult_data_gx.expect_column_values_to_be_in_set(\"income\", ('<=50K', '>50K'))"
   ]
  },
  {
   "cell_type": "code",
   "execution_count": 38,
   "metadata": {},
   "outputs": [],
   "source": [
    "adult_data_gx[\"income\"] = adult_data_gx[\"income\"].str.strip().str.replace(\".\", \"\", regex=False)\n",
    "adult_data_full[\"income\"] = adult_data_full[\"income\"].str.strip().str.replace(\".\", \"\", regex=False)"
   ]
  },
  {
   "cell_type": "code",
   "execution_count": 39,
   "metadata": {},
   "outputs": [
    {
     "data": {
      "text/plain": [
       "{\n",
       "  \"success\": true,\n",
       "  \"result\": {\n",
       "    \"element_count\": 48842,\n",
       "    \"missing_count\": 0,\n",
       "    \"missing_percent\": 0.0,\n",
       "    \"unexpected_count\": 0,\n",
       "    \"unexpected_percent\": 0.0,\n",
       "    \"unexpected_percent_total\": 0.0,\n",
       "    \"unexpected_percent_nonmissing\": 0.0,\n",
       "    \"partial_unexpected_list\": []\n",
       "  },\n",
       "  \"meta\": {},\n",
       "  \"exception_info\": {\n",
       "    \"raised_exception\": false,\n",
       "    \"exception_traceback\": null,\n",
       "    \"exception_message\": null\n",
       "  }\n",
       "}"
      ]
     },
     "execution_count": 39,
     "metadata": {},
     "output_type": "execute_result"
    }
   ],
   "source": [
    "adult_data_gx.expect_column_values_to_be_in_set(\"income\", ('<=50K', '>50K'))"
   ]
  },
  {
   "cell_type": "code",
   "execution_count": null,
   "metadata": {},
   "outputs": [],
   "source": []
  },
  {
   "cell_type": "markdown",
   "metadata": {},
   "source": [
    "# Dry Running the expectations"
   ]
  },
  {
   "cell_type": "code",
   "execution_count": 46,
   "metadata": {},
   "outputs": [
    {
     "name": "stdout",
     "output_type": "stream",
     "text": [
      "\n",
      " Manual Validation Summary:\n",
      "{'evaluated_expectations': 21,\n",
      " 'success_percent': 100.0,\n",
      " 'successful_expectations': 21,\n",
      " 'unsuccessful_expectations': 0}\n"
     ]
    }
   ],
   "source": [
    "adult_data_gx = gx.dataset.PandasDataset(adult_data_full)\n",
    "\n",
    "# === Manual Expectations ===\n",
    "\n",
    "# Age: Between 17 and 90\n",
    "adult_data_gx.expect_column_values_to_be_between(\"age\", min_value=17, max_value=90)\n",
    "adult_data_gx.expect_column_values_to_not_be_null(\"age\")\n",
    "\n",
    "# Workclass: One of the known categories (no missing)\n",
    "adult_data_gx.expect_column_values_to_be_in_set(\"workclass\", [\n",
    "    \"Private\", \"Self-emp-not-inc\", \"Self-emp-inc\", \"Federal-gov\", \"Local-gov\", \"State-gov\", \"Without-pay\", \"Never-worked\",\"?\"\n",
    "])\n",
    "adult_data_gx.expect_column_values_to_not_be_null(\"workclass\")\n",
    "\n",
    "# fnlwgt: Positive integers\n",
    "adult_data_gx.expect_column_values_to_be_between(\"fnlwgt\", min_value=1)\n",
    "adult_data_gx.expect_column_values_to_not_be_null(\"fnlwgt\")\n",
    "\n",
    "# Education\n",
    "adult_data_gx.expect_column_values_to_be_in_set(\"education\", [\n",
    "    \"Bachelors\", \"HS-grad\", \"11th\", \"Masters\", \"9th\", \"Some-college\", \"Assoc-acdm\",\n",
    "    \"Assoc-voc\", \"7th-8th\", \"Doctorate\", \"Prof-school\", \"5th-6th\", \"1st-4th\", \"10th\",\n",
    "    \"Preschool\", \"12th\"\n",
    "])\n",
    "adult_data_gx.expect_column_values_to_not_be_null(\"education\")\n",
    "\n",
    "# education-num: 1 to 16\n",
    "adult_data_gx.expect_column_values_to_be_between(\"education-num\", min_value=1, max_value=16)\n",
    "\n",
    "# marital-status\n",
    "adult_data_gx.expect_column_values_to_be_in_set(\"marital-status\", [\n",
    "    \"Married-civ-spouse\", \"Divorced\", \"Never-married\", \"Separated\", \"Widowed\", \"Married-spouse-absent\", \"Married-AF-spouse\"\n",
    "])\n",
    "adult_data_gx.expect_column_values_to_not_be_null(\"marital-status\")\n",
    "\n",
    "# occupation (might need to handle missing values separately)\n",
    "adult_data_gx.expect_column_values_to_not_be_null(\"occupation\")\n",
    "\n",
    "# relationship\n",
    "adult_data_gx.expect_column_values_to_be_in_set(\"relationship\", [\n",
    "    \"Wife\", \"Own-child\", \"Husband\", \"Not-in-family\", \"Other-relative\", \"Unmarried\"\n",
    "])\n",
    "adult_data_gx.expect_column_values_to_not_be_null(\"relationship\")\n",
    "\n",
    "# race\n",
    "adult_data_gx.expect_column_values_to_be_in_set(\"race\", [\n",
    "    \"White\", \"Asian-Pac-Islander\", \"Amer-Indian-Eskimo\", \"Other\", \"Black\"\n",
    "])\n",
    "\n",
    "# sex\n",
    "adult_data_gx.expect_column_values_to_be_in_set(\"sex\", [\"Male\", \"Female\"])\n",
    "\n",
    "# capital-gain and capital-loss: >= 0\n",
    "adult_data_gx.expect_column_values_to_be_between(\"capital-gain\", min_value=0)\n",
    "adult_data_gx.expect_column_values_to_be_between(\"capital-loss\", min_value=0)\n",
    "\n",
    "# hours-per-week: reasonable range\n",
    "adult_data_gx.expect_column_values_to_be_between(\"hours-per-week\", min_value=1, max_value=100)\n",
    "\n",
    "# native-country\n",
    "adult_data_gx.expect_column_values_to_not_be_null(\"native-country\")\n",
    "\n",
    "# income: clean categories\n",
    "adult_data_gx.expect_column_values_to_be_in_set(\"income\", [\"<=50K\", \">50K\"])\n",
    "\n",
    "# === Run the validation ===\n",
    "result = adult_data_gx.validate()\n",
    "\n",
    "# Print result summary\n",
    "from pprint import pprint\n",
    "print(\"\\n Manual Validation Summary:\")\n",
    "pprint(result[\"statistics\"])\n"
   ]
  },
  {
   "cell_type": "code",
   "execution_count": null,
   "metadata": {},
   "outputs": [],
   "source": []
  }
 ],
 "metadata": {
  "kaggle": {
   "accelerator": "none",
   "dataSources": [
    {
     "datasetId": 4694171,
     "sourceId": 11294251,
     "sourceType": "datasetVersion"
    },
    {
     "datasetId": 7063259,
     "sourceId": 11295792,
     "sourceType": "datasetVersion"
    }
   ],
   "dockerImageVersionId": 30918,
   "isGpuEnabled": false,
   "isInternetEnabled": true,
   "language": "python",
   "sourceType": "notebook"
  },
  "kernelspec": {
   "display_name": "Python 3",
   "language": "python",
   "name": "python3"
  },
  "language_info": {
   "codemirror_mode": {
    "name": "ipython",
    "version": 3
   },
   "file_extension": ".py",
   "mimetype": "text/x-python",
   "name": "python",
   "nbconvert_exporter": "python",
   "pygments_lexer": "ipython3",
   "version": "3.12.1"
  }
 },
 "nbformat": 4,
 "nbformat_minor": 4
}
